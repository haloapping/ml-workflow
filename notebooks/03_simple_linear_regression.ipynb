{
 "cells": [
  {
   "cell_type": "markdown",
   "id": "06f0611c",
   "metadata": {
    "slideshow": {
     "slide_type": "slide"
    }
   },
   "source": [
    "# Read Dataset"
   ]
  },
  {
   "cell_type": "code",
   "execution_count": 1,
   "id": "222d0ad2",
   "metadata": {
    "ExecuteTime": {
     "end_time": "2022-05-29T06:08:24.505494Z",
     "start_time": "2022-05-29T06:08:20.349478Z"
    },
    "run_control": {
     "marked": false
    }
   },
   "outputs": [
    {
     "data": {
      "text/html": [
       "<div>\n",
       "<style scoped>\n",
       "    .dataframe tbody tr th:only-of-type {\n",
       "        vertical-align: middle;\n",
       "    }\n",
       "\n",
       "    .dataframe tbody tr th {\n",
       "        vertical-align: top;\n",
       "    }\n",
       "\n",
       "    .dataframe thead th {\n",
       "        text-align: right;\n",
       "    }\n",
       "</style>\n",
       "<table border=\"1\" class=\"dataframe\">\n",
       "  <thead>\n",
       "    <tr style=\"text-align: right;\">\n",
       "      <th></th>\n",
       "      <th>X (feature)</th>\n",
       "      <th>y (target)</th>\n",
       "    </tr>\n",
       "  </thead>\n",
       "  <tbody>\n",
       "    <tr>\n",
       "      <th>25</th>\n",
       "      <td>0.767435</td>\n",
       "      <td>73.430341</td>\n",
       "    </tr>\n",
       "    <tr>\n",
       "      <th>24</th>\n",
       "      <td>-0.225776</td>\n",
       "      <td>3.429124</td>\n",
       "    </tr>\n",
       "    <tr>\n",
       "      <th>12</th>\n",
       "      <td>-0.908024</td>\n",
       "      <td>-63.435529</td>\n",
       "    </tr>\n",
       "    <tr>\n",
       "      <th>23</th>\n",
       "      <td>0.375698</td>\n",
       "      <td>46.702969</td>\n",
       "    </tr>\n",
       "    <tr>\n",
       "      <th>8</th>\n",
       "      <td>0.314247</td>\n",
       "      <td>22.695928</td>\n",
       "    </tr>\n",
       "  </tbody>\n",
       "</table>\n",
       "</div>"
      ],
      "text/plain": [
       "    X (feature)  y (target)\n",
       "25     0.767435   73.430341\n",
       "24    -0.225776    3.429124\n",
       "12    -0.908024  -63.435529\n",
       "23     0.375698   46.702969\n",
       "8      0.314247   22.695928"
      ]
     },
     "execution_count": 1,
     "metadata": {},
     "output_type": "execute_result"
    }
   ],
   "source": [
    "import pandas as pd\n",
    "\n",
    "from sklearn.datasets import make_regression\n",
    "\n",
    "df = pd.read_csv(\"../datasets/dummy_sample_regression.csv\")\n",
    "df.sample(5)"
   ]
  },
  {
   "cell_type": "markdown",
   "id": "7baa6127",
   "metadata": {
    "slideshow": {
     "slide_type": "slide"
    }
   },
   "source": [
    "# Dataset Information"
   ]
  },
  {
   "cell_type": "code",
   "execution_count": 2,
   "id": "d6f71c6d",
   "metadata": {
    "ExecuteTime": {
     "end_time": "2022-05-29T06:08:24.545029Z",
     "start_time": "2022-05-29T06:08:24.511397Z"
    }
   },
   "outputs": [
    {
     "name": "stdout",
     "output_type": "stream",
     "text": [
      "<class 'pandas.core.frame.DataFrame'>\n",
      "RangeIndex: 30 entries, 0 to 29\n",
      "Data columns (total 2 columns):\n",
      " #   Column       Non-Null Count  Dtype  \n",
      "---  ------       --------------  -----  \n",
      " 0   X (feature)  30 non-null     float64\n",
      " 1   y (target)   30 non-null     float64\n",
      "dtypes: float64(2)\n",
      "memory usage: 608.0 bytes\n"
     ]
    }
   ],
   "source": [
    "df.info()"
   ]
  },
  {
   "cell_type": "markdown",
   "id": "de6d621a",
   "metadata": {
    "slideshow": {
     "slide_type": "slide"
    }
   },
   "source": [
    "# Split X (feature) and y (target)"
   ]
  },
  {
   "cell_type": "code",
   "execution_count": 3,
   "id": "a167b78f",
   "metadata": {
    "ExecuteTime": {
     "end_time": "2022-05-29T06:08:24.570357Z",
     "start_time": "2022-05-29T06:08:24.550038Z"
    }
   },
   "outputs": [],
   "source": [
    "X = df.iloc[:, 0].to_numpy().reshape(-1, 1)\n",
    "y = df.iloc[:, 1].to_numpy().reshape(-1, 1)"
   ]
  },
  {
   "cell_type": "code",
   "execution_count": 4,
   "id": "6b843a53",
   "metadata": {
    "ExecuteTime": {
     "end_time": "2022-05-29T06:08:27.085664Z",
     "start_time": "2022-05-29T06:08:24.576758Z"
    }
   },
   "outputs": [
    {
     "data": {
      "image/png": "[encoded data removed]",
      "text/plain": [
       "<Figure size 432x288 with 1 Axes>"
      ]
     },
     "metadata": {
      "needs_background": "light"
     },
     "output_type": "display_data"
    }
   ],
   "source": [
    "import matplotlib.pyplot as plt\n",
    "\n",
    "plt.scatter(X, y, c=\"y\")\n",
    "plt.xlabel(\"X (feature)\")\n",
    "plt.ylabel(\"y (target)\")\n",
    "plt.grid();"
   ]
  },
  {
   "cell_type": "markdown",
   "id": "41d28c5a",
   "metadata": {
    "slideshow": {
     "slide_type": "slide"
    }
   },
   "source": [
    "# Build Model\n",
    "\n",
    "Model yang digunakan adalah regresi linier. Regresi linier dapat dirumuskan dengan persamaan $y = Wx + b$, dimana $y = prediksi$, $W = Weight~(bobot)$, $x = fitur$, dan $b = bias$. Model regresi linier mencari nilai $W$ dan $b$ yang sesuai sehingga *error* yang dihasilkan dari prediksi menjadi sekecil mungkin.\n",
    "\n",
    "Jika anda mengalami kesulitan dalam mengerti persamaan matematikanya, penjelasan lainnya secara konsep adalah membuat sebuah garis lurus lalu posisikan garis lurus tersebut sedemikian rupa sehingga bisa menghampiri semua sampel."
   ]
  },
  {
   "cell_type": "code",
   "execution_count": 5,
   "id": "4428c697",
   "metadata": {
    "ExecuteTime": {
     "end_time": "2022-05-29T06:08:27.929771Z",
     "start_time": "2022-05-29T06:08:27.088807Z"
    },
    "hide_input": false,
    "slideshow": {
     "slide_type": "slide"
    }
   },
   "outputs": [
    {
     "data": {
      "image/png": "[encoded data removed]",
      "text/plain": [
       "<Figure size 1296x432 with 3 Axes>"
      ]
     },
     "metadata": {
      "needs_background": "light"
     },
     "output_type": "display_data"
    }
   ],
   "source": [
    "fig, ax = plt.subplots(nrows=1,ncols=3, figsize=(18, 6), tight_layout=True)\n",
    "\n",
    "fig.suptitle(\"Posisi Garis Lurus\", size=16)\n",
    "\n",
    "ax[0].set(\n",
    "    title=\"Not Good :(\",\n",
    "    xlabel=\"X (feature)\",\n",
    "    ylabel=\"y (target)\",\n",
    ")\n",
    "ax[0].grid()\n",
    "ax[0].scatter(X, y, c=\"y\")\n",
    "ax[0].plot([-1.913280244657798, 1.5792128155073917], [-136.7458953721814, 20.10575724343158], c=\"r\")\n",
    "\n",
    "ax[1].set(\n",
    "    title=\"Good :)\",\n",
    "    xlabel=\"X (feature)\",\n",
    "    ylabel=\"y (target)\",\n",
    ")\n",
    "ax[1].grid()\n",
    "ax[1].scatter(X, y, c=\"y\")\n",
    "ax[1].plot([-1.913280244657798, 1.5792128155073917], [-136.7458953721814, 116.10575724343158], c=\"g\")\n",
    "\n",
    "ax[2].set(\n",
    "    title=\"Not Good :(\",\n",
    "    xlabel=\"X (feature)\",\n",
    "    ylabel=\"y (target)\",\n",
    ")\n",
    "ax[2].grid()\n",
    "ax[2].scatter(X, y, c=\"y\")\n",
    "ax[2].plot([-1.913280244657798, 1.5792128155073917], [-50.7458953721814, 80.10575724343158], c=\"r\");"
   ]
  },
  {
   "cell_type": "markdown",
   "id": "fe1dacce",
   "metadata": {
    "slideshow": {
     "slide_type": "slide"
    }
   },
   "source": [
    "## Train Model"
   ]
  },
  {
   "cell_type": "code",
   "execution_count": 6,
   "id": "38989a54",
   "metadata": {
    "ExecuteTime": {
     "end_time": "2022-05-29T06:08:28.155192Z",
     "start_time": "2022-05-29T06:08:27.935765Z"
    }
   },
   "outputs": [
    {
     "name": "stdout",
     "output_type": "stream",
     "text": [
      "Weight : 69.42349548873685\n",
      "Bias   : [9.87097059]\n"
     ]
    }
   ],
   "source": [
    "from sklearn.linear_model import LinearRegression\n",
    "\n",
    "model = LinearRegression()\n",
    "model.fit(X, y)\n",
    "\n",
    "print(f\"Weight : {model.coef_.item()}\")\n",
    "print(f\"Bias   : {model.intercept_}\")"
   ]
  },
  {
   "cell_type": "markdown",
   "id": "f7c188e2",
   "metadata": {
    "slideshow": {
     "slide_type": "slide"
    }
   },
   "source": [
    "## Prediction"
   ]
  },
  {
   "cell_type": "code",
   "execution_count": 7,
   "id": "2e8ff47d",
   "metadata": {
    "ExecuteTime": {
     "end_time": "2022-05-29T06:08:28.186817Z",
     "start_time": "2022-05-29T06:08:28.159929Z"
    }
   },
   "outputs": [
    {
     "data": {
      "text/plain": [
       "array([[ -70.03502684],\n",
       "       [ -29.16499516],\n",
       "       [   0.27217951],\n",
       "       [  -6.38363538],\n",
       "       [ 115.60502696],\n",
       "       [ -60.44330612],\n",
       "       [  17.5716045 ],\n",
       "       [  26.66883726],\n",
       "       [  31.68711887],\n",
       "       [ -88.17608904],\n",
       "       [ -22.72158232],\n",
       "       [ -22.30110551],\n",
       "       [ -53.16723472],\n",
       "       [ 119.50544437],\n",
       "       [  47.53738533],\n",
       "       [ 111.62143129],\n",
       "       [  14.55901461],\n",
       "       [ -27.92198103],\n",
       "       [-122.95563184],\n",
       "       [-109.87885477],\n",
       "       [ -31.82746679],\n",
       "       [ -10.37942913],\n",
       "       [  44.35460335],\n",
       "       [  35.95324028],\n",
       "       [  -5.80320938],\n",
       "       [  63.14897205],\n",
       "       [ -22.46161685],\n",
       "       [  54.8357729 ],\n",
       "       [  -6.38477516],\n",
       "       [ -89.04002868]])"
      ]
     },
     "execution_count": 7,
     "metadata": {},
     "output_type": "execute_result"
    }
   ],
   "source": [
    "y_preds = model.predict(X)\n",
    "y_preds"
   ]
  },
  {
   "cell_type": "code",
   "execution_count": 8,
   "id": "dd461884",
   "metadata": {
    "ExecuteTime": {
     "end_time": "2022-05-29T06:08:28.681274Z",
     "start_time": "2022-05-29T06:08:28.192637Z"
    }
   },
   "outputs": [
    {
     "data": {
      "image/png": "[encoded data removed]",
      "text/plain": [
       "<Figure size 432x288 with 1 Axes>"
      ]
     },
     "metadata": {
      "needs_background": "light"
     },
     "output_type": "display_data"
    }
   ],
   "source": [
    "import matplotlib.pyplot as plt\n",
    "\n",
    "plt.scatter(X, y, c=\"y\", label=\"Samples\")\n",
    "plt.plot(X, y_preds, c=\"g\", label=\"Prediction of Linear Regression\")\n",
    "plt.xlabel(\"X (feature)\")\n",
    "plt.ylabel(\"y (target)\")\n",
    "plt.legend()\n",
    "plt.grid();"
   ]
  },
  {
   "cell_type": "markdown",
   "id": "acf6dc3c",
   "metadata": {
    "slideshow": {
     "slide_type": "slide"
    }
   },
   "source": [
    "# Evaluate"
   ]
  },
  {
   "cell_type": "markdown",
   "id": "70bd6092",
   "metadata": {},
   "source": [
    "## R-Squared, Explained Variance, and RMSE (Root Mean Square Error)\n",
    "\n",
    "- [R-Squared Explanantion](https://scikit-learn.org/stable/modules/model_evaluation.html#r2-score-the-coefficient-of-determination)\n",
    "- [Mean Squared Error Explanation](https://scikit-learn.org/stable/modules/model_evaluation.html#mean-squared-error)\n",
    "- [Explained Variance Explanation](https://scikit-learn.org/stable/modules/model_evaluation.html#explained-variance-score)"
   ]
  },
  {
   "cell_type": "code",
   "execution_count": 9,
   "id": "1e72f08c",
   "metadata": {
    "ExecuteTime": {
     "end_time": "2022-05-29T06:08:28.721228Z",
     "start_time": "2022-05-29T06:08:28.687132Z"
    }
   },
   "outputs": [
    {
     "name": "stdout",
     "output_type": "stream",
     "text": [
      "r2_score                 : 0.9750528924547933\n",
      "root_mean_squared_error  : 9.826219729820023\n",
      "explained_variance_score : 0.9750528924547933\n"
     ]
    }
   ],
   "source": [
    "from sklearn.metrics import r2_score, explained_variance_score, mean_squared_error\n",
    "\n",
    "def score_summary(pretrained_model, X, y):\n",
    "    y_preds = model.predict(X)\n",
    "    \n",
    "    print(f\"r2_score                 : {r2_score(y, y_preds)}\")\n",
    "    print(f\"root_mean_squared_error  : {mean_squared_error(y, y_preds, squared=False)}\")\n",
    "    print(f\"explained_variance_score : {explained_variance_score(y, y_preds)}\")\n",
    "    \n",
    "score_summary(model, X, y)"
   ]
  },
  {
   "cell_type": "markdown",
   "id": "13e8228e",
   "metadata": {
    "slideshow": {
     "slide_type": "subslide"
    }
   },
   "source": [
    "## Residual Plot\n",
    "\n",
    "[Interpreting Residual Plot](https://www.qualtrics.com/support/stats-iq/analyses/regression-guides/interpreting-residual-plots-improve-regression/)"
   ]
  },
  {
   "cell_type": "code",
   "execution_count": 10,
   "id": "4c44be90",
   "metadata": {
    "ExecuteTime": {
     "end_time": "2022-05-29T06:08:30.475494Z",
     "start_time": "2022-05-29T06:08:28.731518Z"
    }
   },
   "outputs": [
    {
     "data": {
      "image/png": "[encoded data removed]",
      "text/plain": [
       "<Figure size 576x396 with 2 Axes>"
      ]
     },
     "metadata": {},
     "output_type": "display_data"
    }
   ],
   "source": [
    "from yellowbrick.regressor import ResidualsPlot\n",
    "\n",
    "visualizer = ResidualsPlot(model)\n",
    "\n",
    "visualizer.fit(X, y)\n",
    "visualizer.show();"
   ]
  },
  {
   "cell_type": "markdown",
   "id": "320aa0f5",
   "metadata": {},
   "source": [
    "***\n",
    "Semoga bermanfaat yah 😄\n",
    "\n",
    "*Dibuat dengan penuh 💚 oleh [haloapping](https://haloapping.github.io/)*\n",
    "***"
   ]
  }
 ],
 "metadata": {
  "celltoolbar": "Slideshow",
  "kernelspec": {
   "display_name": "Python [conda env:ml] *",
   "language": "python",
   "name": "conda-env-ml-py"
  },
  "language_info": {
   "codemirror_mode": {
    "name": "ipython",
    "version": 3
   },
   "file_extension": ".py",
   "mimetype": "text/x-python",
   "name": "python",
   "nbconvert_exporter": "python",
   "pygments_lexer": "ipython3",
   "version": "3.10.4"
  },
  "nbTranslate": {
   "displayLangs": [
    "*"
   ],
   "hotkey": "alt-t",
   "langInMainMenu": true,
   "sourceLang": "en",
   "targetLang": "fr",
   "useGoogleTranslate": true
  },
  "toc": {
   "base_numbering": 1,
   "nav_menu": {},
   "number_sections": true,
   "sideBar": true,
   "skip_h1_title": false,
   "title_cell": "Table of Contents",
   "title_sidebar": "Contents",
   "toc_cell": false,
   "toc_position": {},
   "toc_section_display": true,
   "toc_window_display": false
  }
 },
 "nbformat": 4,
 "nbformat_minor": 5
}
