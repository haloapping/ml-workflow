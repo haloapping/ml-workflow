{
 "cells": [
  {
   "cell_type": "markdown",
   "id": "0dcfe315",
   "metadata": {},
   "source": [
    "# Import Common Libraries"
   ]
  },
  {
   "cell_type": "code",
   "execution_count": 1,
   "id": "f777d0fc",
   "metadata": {
    "ExecuteTime": {
     "end_time": "2022-05-27T07:33:50.014431Z",
     "start_time": "2022-05-27T07:33:48.562435Z"
    }
   },
   "outputs": [],
   "source": [
    "import pandas as pd"
   ]
  },
  {
   "cell_type": "markdown",
   "id": "fb4ee11b",
   "metadata": {},
   "source": [
    "# Import Dataset"
   ]
  },
  {
   "cell_type": "code",
   "execution_count": 2,
   "id": "baac2455",
   "metadata": {
    "ExecuteTime": {
     "end_time": "2022-05-27T07:33:50.093065Z",
     "start_time": "2022-05-27T07:33:50.020431Z"
    },
    "scrolled": true
   },
   "outputs": [
    {
     "data": {
      "text/html": [
       "<div>\n",
       "<style scoped>\n",
       "    .dataframe tbody tr th:only-of-type {\n",
       "        vertical-align: middle;\n",
       "    }\n",
       "\n",
       "    .dataframe tbody tr th {\n",
       "        vertical-align: top;\n",
       "    }\n",
       "\n",
       "    .dataframe thead th {\n",
       "        text-align: right;\n",
       "    }\n",
       "</style>\n",
       "<table border=\"1\" class=\"dataframe\">\n",
       "  <thead>\n",
       "    <tr style=\"text-align: right;\">\n",
       "      <th></th>\n",
       "      <th>Survived</th>\n",
       "      <th>Pclass</th>\n",
       "      <th>Sex</th>\n",
       "      <th>Age</th>\n",
       "      <th>SibSp</th>\n",
       "      <th>Parch</th>\n",
       "      <th>Fare</th>\n",
       "      <th>Embarked</th>\n",
       "    </tr>\n",
       "    <tr>\n",
       "      <th>PassengerId</th>\n",
       "      <th></th>\n",
       "      <th></th>\n",
       "      <th></th>\n",
       "      <th></th>\n",
       "      <th></th>\n",
       "      <th></th>\n",
       "      <th></th>\n",
       "      <th></th>\n",
       "    </tr>\n",
       "  </thead>\n",
       "  <tbody>\n",
       "    <tr>\n",
       "      <th>1</th>\n",
       "      <td>0</td>\n",
       "      <td>3</td>\n",
       "      <td>male</td>\n",
       "      <td>22.0</td>\n",
       "      <td>1</td>\n",
       "      <td>0</td>\n",
       "      <td>7.2500</td>\n",
       "      <td>S</td>\n",
       "    </tr>\n",
       "    <tr>\n",
       "      <th>2</th>\n",
       "      <td>1</td>\n",
       "      <td>1</td>\n",
       "      <td>female</td>\n",
       "      <td>38.0</td>\n",
       "      <td>1</td>\n",
       "      <td>0</td>\n",
       "      <td>71.2833</td>\n",
       "      <td>C</td>\n",
       "    </tr>\n",
       "    <tr>\n",
       "      <th>3</th>\n",
       "      <td>1</td>\n",
       "      <td>3</td>\n",
       "      <td>female</td>\n",
       "      <td>26.0</td>\n",
       "      <td>0</td>\n",
       "      <td>0</td>\n",
       "      <td>7.9250</td>\n",
       "      <td>S</td>\n",
       "    </tr>\n",
       "    <tr>\n",
       "      <th>4</th>\n",
       "      <td>1</td>\n",
       "      <td>1</td>\n",
       "      <td>female</td>\n",
       "      <td>35.0</td>\n",
       "      <td>1</td>\n",
       "      <td>0</td>\n",
       "      <td>53.1000</td>\n",
       "      <td>S</td>\n",
       "    </tr>\n",
       "    <tr>\n",
       "      <th>5</th>\n",
       "      <td>0</td>\n",
       "      <td>3</td>\n",
       "      <td>male</td>\n",
       "      <td>35.0</td>\n",
       "      <td>0</td>\n",
       "      <td>0</td>\n",
       "      <td>8.0500</td>\n",
       "      <td>S</td>\n",
       "    </tr>\n",
       "  </tbody>\n",
       "</table>\n",
       "</div>"
      ],
      "text/plain": [
       "             Survived Pclass     Sex   Age  SibSp  Parch     Fare Embarked\n",
       "PassengerId                                                               \n",
       "1                   0      3    male  22.0      1      0   7.2500        S\n",
       "2                   1      1  female  38.0      1      0  71.2833        C\n",
       "3                   1      3  female  26.0      0      0   7.9250        S\n",
       "4                   1      1  female  35.0      1      0  53.1000        S\n",
       "5                   0      3    male  35.0      0      0   8.0500        S"
      ]
     },
     "execution_count": 2,
     "metadata": {},
     "output_type": "execute_result"
    }
   ],
   "source": [
    "df = pd.read_csv(\"../datasets/titanic.csv\", index_col=\"PassengerId\")\n",
    "df.drop(columns=[\"Name\", \"Ticket\", \"Cabin\"], inplace=True)\n",
    "df.Pclass = df.Pclass.astype(\"object\")\n",
    "df.head()"
   ]
  },
  {
   "cell_type": "markdown",
   "id": "77e35fc5",
   "metadata": {},
   "source": [
    "# Build Model"
   ]
  },
  {
   "cell_type": "markdown",
   "id": "f25a8fea",
   "metadata": {},
   "source": [
    "## Dataset Spliting"
   ]
  },
  {
   "cell_type": "code",
   "execution_count": 3,
   "id": "66e02a72",
   "metadata": {
    "ExecuteTime": {
     "end_time": "2022-05-27T07:33:52.702669Z",
     "start_time": "2022-05-27T07:33:50.097720Z"
    }
   },
   "outputs": [
    {
     "name": "stdout",
     "output_type": "stream",
     "text": [
      "X_train shape : (712, 7)\n",
      "X_train shape : (712,)\n",
      "X_test shape  : (179, 7)\n",
      "y_test shape  : (179,)\n"
     ]
    }
   ],
   "source": [
    "from sklearn.model_selection import train_test_split\n",
    "\n",
    "X = df.drop(columns=\"Survived\")\n",
    "y = df.Survived\n",
    "\n",
    "X_train, X_test, y_train, y_test = train_test_split(X, y, test_size=0.2, stratify=y, random_state=42)\n",
    "\n",
    "print(f\"X_train shape : {X_train.shape}\")\n",
    "print(f\"X_train shape : {y_train.shape}\")\n",
    "print(f\"X_test shape  : {X_test.shape}\")\n",
    "print(f\"y_test shape  : {y_test.shape}\")"
   ]
  },
  {
   "cell_type": "markdown",
   "id": "5eefe445",
   "metadata": {},
   "source": [
    "# Pipeline"
   ]
  },
  {
   "cell_type": "code",
   "execution_count": 4,
   "id": "9a2b1abd",
   "metadata": {
    "ExecuteTime": {
     "end_time": "2022-05-27T07:33:53.120992Z",
     "start_time": "2022-05-27T07:33:52.715267Z"
    }
   },
   "outputs": [],
   "source": [
    "from sklearn.neighbors import KNeighborsClassifier\n",
    "from sklearn.pipeline import Pipeline\n",
    "from sklearn.compose import ColumnTransformer, make_column_selector\n",
    "from sklearn.impute import SimpleImputer\n",
    "from sklearn.preprocessing import MinMaxScaler, OneHotEncoder"
   ]
  },
  {
   "cell_type": "code",
   "execution_count": 5,
   "id": "a26d133c",
   "metadata": {
    "ExecuteTime": {
     "end_time": "2022-05-27T07:33:53.168048Z",
     "start_time": "2022-05-27T07:33:53.127008Z"
    }
   },
   "outputs": [
    {
     "name": "stdout",
     "output_type": "stream",
     "text": [
      "<class 'pandas.core.frame.DataFrame'>\n",
      "Int64Index: 891 entries, 1 to 891\n",
      "Data columns (total 8 columns):\n",
      " #   Column    Non-Null Count  Dtype  \n",
      "---  ------    --------------  -----  \n",
      " 0   Survived  891 non-null    int64  \n",
      " 1   Pclass    891 non-null    object \n",
      " 2   Sex       891 non-null    object \n",
      " 3   Age       714 non-null    float64\n",
      " 4   SibSp     891 non-null    int64  \n",
      " 5   Parch     891 non-null    int64  \n",
      " 6   Fare      891 non-null    float64\n",
      " 7   Embarked  889 non-null    object \n",
      "dtypes: float64(2), int64(3), object(3)\n",
      "memory usage: 62.6+ KB\n"
     ]
    }
   ],
   "source": [
    "df.info()"
   ]
  },
  {
   "cell_type": "markdown",
   "id": "cfb56760",
   "metadata": {},
   "source": [
    "## Preprocessor Pipeline"
   ]
  },
  {
   "cell_type": "code",
   "execution_count": 21,
   "id": "b1be91b0",
   "metadata": {
    "ExecuteTime": {
     "end_time": "2022-05-27T07:35:14.514013Z",
     "start_time": "2022-05-27T07:35:14.487786Z"
    }
   },
   "outputs": [],
   "source": [
    "numerical_pipeline = Pipeline([\n",
    "    (\"imputer\", SimpleImputer(strategy=\"mean\")),\n",
    "    (\"scaler\", MinMaxScaler())\n",
    "])\n",
    "\n",
    "categorical_pipeline = Pipeline([\n",
    "    (\"imputer\", SimpleImputer(strategy=\"most_frequent\")),\n",
    "    (\"encoder\", OneHotEncoder())\n",
    "])\n",
    "\n",
    "preprocess_pipeline = ColumnTransformer([\n",
    "    (\"numerical_pipeline\", numerical_pipeline, make_column_selector(dtype_include=\"number\")),\n",
    "    (\"categorical_pipeline\", categorical_pipeline, make_column_selector(dtype_include=\"object\"))\n",
    "], verbose=True)"
   ]
  },
  {
   "cell_type": "markdown",
   "id": "0fbe2e7a",
   "metadata": {
    "ExecuteTime": {
     "end_time": "2022-05-27T03:26:09.053272Z",
     "start_time": "2022-05-27T03:26:09.033274Z"
    }
   },
   "source": [
    "## Model Pipeline"
   ]
  },
  {
   "cell_type": "code",
   "execution_count": 22,
   "id": "5fbd4ba7",
   "metadata": {
    "ExecuteTime": {
     "end_time": "2022-05-27T07:35:15.353079Z",
     "start_time": "2022-05-27T07:35:15.343635Z"
    }
   },
   "outputs": [],
   "source": [
    "model_pipeline = Pipeline([\n",
    "    (\"preprocess_pipeline\", preprocess_pipeline),\n",
    "    (\"algo\", KNeighborsClassifier())\n",
    "])"
   ]
  },
  {
   "cell_type": "code",
   "execution_count": 23,
   "id": "d9fea1b1",
   "metadata": {
    "ExecuteTime": {
     "end_time": "2022-05-27T07:35:16.213285Z",
     "start_time": "2022-05-27T07:35:16.004828Z"
    }
   },
   "outputs": [
    {
     "name": "stdout",
     "output_type": "stream",
     "text": [
      "[ColumnTransformer]  (1 of 2) Processing numerical_pipeline, total=   0.0s\n",
      "[ColumnTransformer]  (2 of 2) Processing categorical_pipeline, total=   0.0s\n"
     ]
    },
    {
     "data": {
      "text/html": [
       "<style>#sk-container-id-3 {color: black;background-color: white;}#sk-container-id-3 pre{padding: 0;}#sk-container-id-3 div.sk-toggleable {background-color: white;}#sk-container-id-3 label.sk-toggleable__label {cursor: pointer;display: block;width: 100%;margin-bottom: 0;padding: 0.3em;box-sizing: border-box;text-align: center;}#sk-container-id-3 label.sk-toggleable__label-arrow:before {content: \"▸\";float: left;margin-right: 0.25em;color: #696969;}#sk-container-id-3 label.sk-toggleable__label-arrow:hover:before {color: black;}#sk-container-id-3 div.sk-estimator:hover label.sk-toggleable__label-arrow:before {color: black;}#sk-container-id-3 div.sk-toggleable__content {max-height: 0;max-width: 0;overflow: hidden;text-align: left;background-color: #f0f8ff;}#sk-container-id-3 div.sk-toggleable__content pre {margin: 0.2em;color: black;border-radius: 0.25em;background-color: #f0f8ff;}#sk-container-id-3 input.sk-toggleable__control:checked~div.sk-toggleable__content {max-height: 200px;max-width: 100%;overflow: auto;}#sk-container-id-3 input.sk-toggleable__control:checked~label.sk-toggleable__label-arrow:before {content: \"▾\";}#sk-container-id-3 div.sk-estimator input.sk-toggleable__control:checked~label.sk-toggleable__label {background-color: #d4ebff;}#sk-container-id-3 div.sk-label input.sk-toggleable__control:checked~label.sk-toggleable__label {background-color: #d4ebff;}#sk-container-id-3 input.sk-hidden--visually {border: 0;clip: rect(1px 1px 1px 1px);clip: rect(1px, 1px, 1px, 1px);height: 1px;margin: -1px;overflow: hidden;padding: 0;position: absolute;width: 1px;}#sk-container-id-3 div.sk-estimator {font-family: monospace;background-color: #f0f8ff;border: 1px dotted black;border-radius: 0.25em;box-sizing: border-box;margin-bottom: 0.5em;}#sk-container-id-3 div.sk-estimator:hover {background-color: #d4ebff;}#sk-container-id-3 div.sk-parallel-item::after {content: \"\";width: 100%;border-bottom: 1px solid gray;flex-grow: 1;}#sk-container-id-3 div.sk-label:hover label.sk-toggleable__label {background-color: #d4ebff;}#sk-container-id-3 div.sk-serial::before {content: \"\";position: absolute;border-left: 1px solid gray;box-sizing: border-box;top: 0;bottom: 0;left: 50%;z-index: 0;}#sk-container-id-3 div.sk-serial {display: flex;flex-direction: column;align-items: center;background-color: white;padding-right: 0.2em;padding-left: 0.2em;position: relative;}#sk-container-id-3 div.sk-item {position: relative;z-index: 1;}#sk-container-id-3 div.sk-parallel {display: flex;align-items: stretch;justify-content: center;background-color: white;position: relative;}#sk-container-id-3 div.sk-item::before, #sk-container-id-3 div.sk-parallel-item::before {content: \"\";position: absolute;border-left: 1px solid gray;box-sizing: border-box;top: 0;bottom: 0;left: 50%;z-index: -1;}#sk-container-id-3 div.sk-parallel-item {display: flex;flex-direction: column;z-index: 1;position: relative;background-color: white;}#sk-container-id-3 div.sk-parallel-item:first-child::after {align-self: flex-end;width: 50%;}#sk-container-id-3 div.sk-parallel-item:last-child::after {align-self: flex-start;width: 50%;}#sk-container-id-3 div.sk-parallel-item:only-child::after {width: 0;}#sk-container-id-3 div.sk-dashed-wrapped {border: 1px dashed gray;margin: 0 0.4em 0.5em 0.4em;box-sizing: border-box;padding-bottom: 0.4em;background-color: white;}#sk-container-id-3 div.sk-label label {font-family: monospace;font-weight: bold;display: inline-block;line-height: 1.2em;}#sk-container-id-3 div.sk-label-container {text-align: center;}#sk-container-id-3 div.sk-container {/* jupyter's `normalize.less` sets `[hidden] { display: none; }` but bootstrap.min.css set `[hidden] { display: none !important; }` so we also need the `!important` here to be able to override the default hidden behavior on the sphinx rendered scikit-learn.org. See: https://github.com/scikit-learn/scikit-learn/issues/21755 */display: inline-block !important;position: relative;}#sk-container-id-3 div.sk-text-repr-fallback {display: none;}</style><div id=\"sk-container-id-3\" class=\"sk-top-container\"><div class=\"sk-text-repr-fallback\"><pre>Pipeline(steps=[(&#x27;preprocess_pipeline&#x27;,\n",
       "                 ColumnTransformer(transformers=[(&#x27;numerical_pipeline&#x27;,\n",
       "                                                  Pipeline(steps=[(&#x27;imputer&#x27;,\n",
       "                                                                   SimpleImputer()),\n",
       "                                                                  (&#x27;scaler&#x27;,\n",
       "                                                                   MinMaxScaler())]),\n",
       "                                                  &lt;sklearn.compose._column_transformer.make_column_selector object at 0x0000026A199BC880&gt;),\n",
       "                                                 (&#x27;categorical_pipeline&#x27;,\n",
       "                                                  Pipeline(steps=[(&#x27;imputer&#x27;,\n",
       "                                                                   SimpleImputer(strategy=&#x27;most_frequent&#x27;)),\n",
       "                                                                  (&#x27;encoder&#x27;,\n",
       "                                                                   OneHotEncoder())]),\n",
       "                                                  &lt;sklearn.compose._column_transformer.make_column_selector object at 0x0000026A199BC5B0&gt;)],\n",
       "                                   verbose=True)),\n",
       "                (&#x27;algo&#x27;, KNeighborsClassifier())])</pre><b>In a Jupyter environment, please rerun this cell to show the HTML representation or trust the notebook. <br />On GitHub, the HTML representation is unable to render, please try loading this page with nbviewer.org.</b></div><div class=\"sk-container\" hidden><div class=\"sk-item sk-dashed-wrapped\"><div class=\"sk-label-container\"><div class=\"sk-label sk-toggleable\"><input class=\"sk-toggleable__control sk-hidden--visually\" id=\"sk-estimator-id-20\" type=\"checkbox\" ><label for=\"sk-estimator-id-20\" class=\"sk-toggleable__label sk-toggleable__label-arrow\">Pipeline</label><div class=\"sk-toggleable__content\"><pre>Pipeline(steps=[(&#x27;preprocess_pipeline&#x27;,\n",
       "                 ColumnTransformer(transformers=[(&#x27;numerical_pipeline&#x27;,\n",
       "                                                  Pipeline(steps=[(&#x27;imputer&#x27;,\n",
       "                                                                   SimpleImputer()),\n",
       "                                                                  (&#x27;scaler&#x27;,\n",
       "                                                                   MinMaxScaler())]),\n",
       "                                                  &lt;sklearn.compose._column_transformer.make_column_selector object at 0x0000026A199BC880&gt;),\n",
       "                                                 (&#x27;categorical_pipeline&#x27;,\n",
       "                                                  Pipeline(steps=[(&#x27;imputer&#x27;,\n",
       "                                                                   SimpleImputer(strategy=&#x27;most_frequent&#x27;)),\n",
       "                                                                  (&#x27;encoder&#x27;,\n",
       "                                                                   OneHotEncoder())]),\n",
       "                                                  &lt;sklearn.compose._column_transformer.make_column_selector object at 0x0000026A199BC5B0&gt;)],\n",
       "                                   verbose=True)),\n",
       "                (&#x27;algo&#x27;, KNeighborsClassifier())])</pre></div></div></div><div class=\"sk-serial\"><div class=\"sk-item sk-dashed-wrapped\"><div class=\"sk-label-container\"><div class=\"sk-label sk-toggleable\"><input class=\"sk-toggleable__control sk-hidden--visually\" id=\"sk-estimator-id-21\" type=\"checkbox\" ><label for=\"sk-estimator-id-21\" class=\"sk-toggleable__label sk-toggleable__label-arrow\">preprocess_pipeline: ColumnTransformer</label><div class=\"sk-toggleable__content\"><pre>ColumnTransformer(transformers=[(&#x27;numerical_pipeline&#x27;,\n",
       "                                 Pipeline(steps=[(&#x27;imputer&#x27;, SimpleImputer()),\n",
       "                                                 (&#x27;scaler&#x27;, MinMaxScaler())]),\n",
       "                                 &lt;sklearn.compose._column_transformer.make_column_selector object at 0x0000026A199BC880&gt;),\n",
       "                                (&#x27;categorical_pipeline&#x27;,\n",
       "                                 Pipeline(steps=[(&#x27;imputer&#x27;,\n",
       "                                                  SimpleImputer(strategy=&#x27;most_frequent&#x27;)),\n",
       "                                                 (&#x27;encoder&#x27;, OneHotEncoder())]),\n",
       "                                 &lt;sklearn.compose._column_transformer.make_column_selector object at 0x0000026A199BC5B0&gt;)],\n",
       "                  verbose=True)</pre></div></div></div><div class=\"sk-parallel\"><div class=\"sk-parallel-item\"><div class=\"sk-item\"><div class=\"sk-label-container\"><div class=\"sk-label sk-toggleable\"><input class=\"sk-toggleable__control sk-hidden--visually\" id=\"sk-estimator-id-22\" type=\"checkbox\" ><label for=\"sk-estimator-id-22\" class=\"sk-toggleable__label sk-toggleable__label-arrow\">numerical_pipeline</label><div class=\"sk-toggleable__content\"><pre>&lt;sklearn.compose._column_transformer.make_column_selector object at 0x0000026A199BC880&gt;</pre></div></div></div><div class=\"sk-serial\"><div class=\"sk-item\"><div class=\"sk-serial\"><div class=\"sk-item\"><div class=\"sk-estimator sk-toggleable\"><input class=\"sk-toggleable__control sk-hidden--visually\" id=\"sk-estimator-id-23\" type=\"checkbox\" ><label for=\"sk-estimator-id-23\" class=\"sk-toggleable__label sk-toggleable__label-arrow\">SimpleImputer</label><div class=\"sk-toggleable__content\"><pre>SimpleImputer()</pre></div></div></div><div class=\"sk-item\"><div class=\"sk-estimator sk-toggleable\"><input class=\"sk-toggleable__control sk-hidden--visually\" id=\"sk-estimator-id-24\" type=\"checkbox\" ><label for=\"sk-estimator-id-24\" class=\"sk-toggleable__label sk-toggleable__label-arrow\">MinMaxScaler</label><div class=\"sk-toggleable__content\"><pre>MinMaxScaler()</pre></div></div></div></div></div></div></div></div><div class=\"sk-parallel-item\"><div class=\"sk-item\"><div class=\"sk-label-container\"><div class=\"sk-label sk-toggleable\"><input class=\"sk-toggleable__control sk-hidden--visually\" id=\"sk-estimator-id-25\" type=\"checkbox\" ><label for=\"sk-estimator-id-25\" class=\"sk-toggleable__label sk-toggleable__label-arrow\">categorical_pipeline</label><div class=\"sk-toggleable__content\"><pre>&lt;sklearn.compose._column_transformer.make_column_selector object at 0x0000026A199BC5B0&gt;</pre></div></div></div><div class=\"sk-serial\"><div class=\"sk-item\"><div class=\"sk-serial\"><div class=\"sk-item\"><div class=\"sk-estimator sk-toggleable\"><input class=\"sk-toggleable__control sk-hidden--visually\" id=\"sk-estimator-id-26\" type=\"checkbox\" ><label for=\"sk-estimator-id-26\" class=\"sk-toggleable__label sk-toggleable__label-arrow\">SimpleImputer</label><div class=\"sk-toggleable__content\"><pre>SimpleImputer(strategy=&#x27;most_frequent&#x27;)</pre></div></div></div><div class=\"sk-item\"><div class=\"sk-estimator sk-toggleable\"><input class=\"sk-toggleable__control sk-hidden--visually\" id=\"sk-estimator-id-27\" type=\"checkbox\" ><label for=\"sk-estimator-id-27\" class=\"sk-toggleable__label sk-toggleable__label-arrow\">OneHotEncoder</label><div class=\"sk-toggleable__content\"><pre>OneHotEncoder()</pre></div></div></div></div></div></div></div></div></div></div><div class=\"sk-item\"><div class=\"sk-estimator sk-toggleable\"><input class=\"sk-toggleable__control sk-hidden--visually\" id=\"sk-estimator-id-28\" type=\"checkbox\" ><label for=\"sk-estimator-id-28\" class=\"sk-toggleable__label sk-toggleable__label-arrow\">KNeighborsClassifier</label><div class=\"sk-toggleable__content\"><pre>KNeighborsClassifier()</pre></div></div></div></div></div></div></div>"
      ],
      "text/plain": [
       "Pipeline(steps=[('preprocess_pipeline',\n",
       "                 ColumnTransformer(transformers=[('numerical_pipeline',\n",
       "                                                  Pipeline(steps=[('imputer',\n",
       "                                                                   SimpleImputer()),\n",
       "                                                                  ('scaler',\n",
       "                                                                   MinMaxScaler())]),\n",
       "                                                  <sklearn.compose._column_transformer.make_column_selector object at 0x0000026A199BC880>),\n",
       "                                                 ('categorical_pipeline',\n",
       "                                                  Pipeline(steps=[('imputer',\n",
       "                                                                   SimpleImputer(strategy='most_frequent')),\n",
       "                                                                  ('encoder',\n",
       "                                                                   OneHotEncoder())]),\n",
       "                                                  <sklearn.compose._column_transformer.make_column_selector object at 0x0000026A199BC5B0>)],\n",
       "                                   verbose=True)),\n",
       "                ('algo', KNeighborsClassifier())])"
      ]
     },
     "execution_count": 23,
     "metadata": {},
     "output_type": "execute_result"
    }
   ],
   "source": [
    "model_pipeline.fit(X_train, y_train)"
   ]
  },
  {
   "cell_type": "code",
   "execution_count": 24,
   "id": "cbce2058",
   "metadata": {
    "ExecuteTime": {
     "end_time": "2022-05-27T07:35:20.589757Z",
     "start_time": "2022-05-27T07:35:20.490916Z"
    }
   },
   "outputs": [
    {
     "data": {
      "text/plain": [
       "0.8553370786516854"
      ]
     },
     "execution_count": 24,
     "metadata": {},
     "output_type": "execute_result"
    }
   ],
   "source": [
    "model_pipeline.score(X_train, y_train)"
   ]
  },
  {
   "cell_type": "code",
   "execution_count": 25,
   "id": "8eb7ac14",
   "metadata": {
    "ExecuteTime": {
     "end_time": "2022-05-27T07:35:21.008039Z",
     "start_time": "2022-05-27T07:35:20.950942Z"
    }
   },
   "outputs": [
    {
     "data": {
      "text/plain": [
       "0.8100558659217877"
      ]
     },
     "execution_count": 25,
     "metadata": {},
     "output_type": "execute_result"
    }
   ],
   "source": [
    "model_pipeline.score(X_test, y_test)"
   ]
  },
  {
   "cell_type": "markdown",
   "id": "d289cf44",
   "metadata": {},
   "source": [
    "# Grid Search CV"
   ]
  },
  {
   "cell_type": "code",
   "execution_count": 26,
   "id": "472b0b13",
   "metadata": {
    "ExecuteTime": {
     "end_time": "2022-05-27T07:35:29.072470Z",
     "start_time": "2022-05-27T07:35:22.006501Z"
    }
   },
   "outputs": [
    {
     "name": "stdout",
     "output_type": "stream",
     "text": [
      "Fitting 5 folds for each of 100 candidates, totalling 500 fits\n",
      "[ColumnTransformer]  (1 of 2) Processing numerical_pipeline, total=   0.0s\n",
      "[ColumnTransformer]  (2 of 2) Processing categorical_pipeline, total=   0.0s\n"
     ]
    },
    {
     "data": {
      "text/html": [
       "<style>#sk-container-id-4 {color: black;background-color: white;}#sk-container-id-4 pre{padding: 0;}#sk-container-id-4 div.sk-toggleable {background-color: white;}#sk-container-id-4 label.sk-toggleable__label {cursor: pointer;display: block;width: 100%;margin-bottom: 0;padding: 0.3em;box-sizing: border-box;text-align: center;}#sk-container-id-4 label.sk-toggleable__label-arrow:before {content: \"▸\";float: left;margin-right: 0.25em;color: #696969;}#sk-container-id-4 label.sk-toggleable__label-arrow:hover:before {color: black;}#sk-container-id-4 div.sk-estimator:hover label.sk-toggleable__label-arrow:before {color: black;}#sk-container-id-4 div.sk-toggleable__content {max-height: 0;max-width: 0;overflow: hidden;text-align: left;background-color: #f0f8ff;}#sk-container-id-4 div.sk-toggleable__content pre {margin: 0.2em;color: black;border-radius: 0.25em;background-color: #f0f8ff;}#sk-container-id-4 input.sk-toggleable__control:checked~div.sk-toggleable__content {max-height: 200px;max-width: 100%;overflow: auto;}#sk-container-id-4 input.sk-toggleable__control:checked~label.sk-toggleable__label-arrow:before {content: \"▾\";}#sk-container-id-4 div.sk-estimator input.sk-toggleable__control:checked~label.sk-toggleable__label {background-color: #d4ebff;}#sk-container-id-4 div.sk-label input.sk-toggleable__control:checked~label.sk-toggleable__label {background-color: #d4ebff;}#sk-container-id-4 input.sk-hidden--visually {border: 0;clip: rect(1px 1px 1px 1px);clip: rect(1px, 1px, 1px, 1px);height: 1px;margin: -1px;overflow: hidden;padding: 0;position: absolute;width: 1px;}#sk-container-id-4 div.sk-estimator {font-family: monospace;background-color: #f0f8ff;border: 1px dotted black;border-radius: 0.25em;box-sizing: border-box;margin-bottom: 0.5em;}#sk-container-id-4 div.sk-estimator:hover {background-color: #d4ebff;}#sk-container-id-4 div.sk-parallel-item::after {content: \"\";width: 100%;border-bottom: 1px solid gray;flex-grow: 1;}#sk-container-id-4 div.sk-label:hover label.sk-toggleable__label {background-color: #d4ebff;}#sk-container-id-4 div.sk-serial::before {content: \"\";position: absolute;border-left: 1px solid gray;box-sizing: border-box;top: 0;bottom: 0;left: 50%;z-index: 0;}#sk-container-id-4 div.sk-serial {display: flex;flex-direction: column;align-items: center;background-color: white;padding-right: 0.2em;padding-left: 0.2em;position: relative;}#sk-container-id-4 div.sk-item {position: relative;z-index: 1;}#sk-container-id-4 div.sk-parallel {display: flex;align-items: stretch;justify-content: center;background-color: white;position: relative;}#sk-container-id-4 div.sk-item::before, #sk-container-id-4 div.sk-parallel-item::before {content: \"\";position: absolute;border-left: 1px solid gray;box-sizing: border-box;top: 0;bottom: 0;left: 50%;z-index: -1;}#sk-container-id-4 div.sk-parallel-item {display: flex;flex-direction: column;z-index: 1;position: relative;background-color: white;}#sk-container-id-4 div.sk-parallel-item:first-child::after {align-self: flex-end;width: 50%;}#sk-container-id-4 div.sk-parallel-item:last-child::after {align-self: flex-start;width: 50%;}#sk-container-id-4 div.sk-parallel-item:only-child::after {width: 0;}#sk-container-id-4 div.sk-dashed-wrapped {border: 1px dashed gray;margin: 0 0.4em 0.5em 0.4em;box-sizing: border-box;padding-bottom: 0.4em;background-color: white;}#sk-container-id-4 div.sk-label label {font-family: monospace;font-weight: bold;display: inline-block;line-height: 1.2em;}#sk-container-id-4 div.sk-label-container {text-align: center;}#sk-container-id-4 div.sk-container {/* jupyter's `normalize.less` sets `[hidden] { display: none; }` but bootstrap.min.css set `[hidden] { display: none !important; }` so we also need the `!important` here to be able to override the default hidden behavior on the sphinx rendered scikit-learn.org. See: https://github.com/scikit-learn/scikit-learn/issues/21755 */display: inline-block !important;position: relative;}#sk-container-id-4 div.sk-text-repr-fallback {display: none;}</style><div id=\"sk-container-id-4\" class=\"sk-top-container\"><div class=\"sk-text-repr-fallback\"><pre>GridSearchCV(cv=5,\n",
       "             estimator=Pipeline(steps=[(&#x27;preprocess_pipeline&#x27;,\n",
       "                                        ColumnTransformer(transformers=[(&#x27;numerical_pipeline&#x27;,\n",
       "                                                                         Pipeline(steps=[(&#x27;imputer&#x27;,\n",
       "                                                                                          SimpleImputer()),\n",
       "                                                                                         (&#x27;scaler&#x27;,\n",
       "                                                                                          MinMaxScaler())]),\n",
       "                                                                         &lt;sklearn.compose._column_transformer.make_column_selector object at 0x0000026A199BC880&gt;),\n",
       "                                                                        (&#x27;categorical_pipeline&#x27;,\n",
       "                                                                         Pipeline(steps=[(&#x27;imputer&#x27;,\n",
       "                                                                                          SimpleImputer(strategy=&#x27;most_frequent&#x27;)),\n",
       "                                                                                         (&#x27;encoder&#x27;,\n",
       "                                                                                          OneHotEncoder())]),\n",
       "                                                                         &lt;sklearn.compose._column_transformer.make_column_selector object at 0x0000026A199BC5B0&gt;)],\n",
       "                                                          verbose=True)),\n",
       "                                       (&#x27;algo&#x27;, KNeighborsClassifier())]),\n",
       "             n_jobs=-1,\n",
       "             param_grid={&#x27;algo__n_neighbors&#x27;: range(1, 51, 2),\n",
       "                         &#x27;algo__p&#x27;: [1, 2],\n",
       "                         &#x27;algo__weights&#x27;: [&#x27;uniform&#x27;, &#x27;distance&#x27;]},\n",
       "             verbose=1)</pre><b>In a Jupyter environment, please rerun this cell to show the HTML representation or trust the notebook. <br />On GitHub, the HTML representation is unable to render, please try loading this page with nbviewer.org.</b></div><div class=\"sk-container\" hidden><div class=\"sk-item sk-dashed-wrapped\"><div class=\"sk-label-container\"><div class=\"sk-label sk-toggleable\"><input class=\"sk-toggleable__control sk-hidden--visually\" id=\"sk-estimator-id-29\" type=\"checkbox\" ><label for=\"sk-estimator-id-29\" class=\"sk-toggleable__label sk-toggleable__label-arrow\">GridSearchCV</label><div class=\"sk-toggleable__content\"><pre>GridSearchCV(cv=5,\n",
       "             estimator=Pipeline(steps=[(&#x27;preprocess_pipeline&#x27;,\n",
       "                                        ColumnTransformer(transformers=[(&#x27;numerical_pipeline&#x27;,\n",
       "                                                                         Pipeline(steps=[(&#x27;imputer&#x27;,\n",
       "                                                                                          SimpleImputer()),\n",
       "                                                                                         (&#x27;scaler&#x27;,\n",
       "                                                                                          MinMaxScaler())]),\n",
       "                                                                         &lt;sklearn.compose._column_transformer.make_column_selector object at 0x0000026A199BC880&gt;),\n",
       "                                                                        (&#x27;categorical_pipeline&#x27;,\n",
       "                                                                         Pipeline(steps=[(&#x27;imputer&#x27;,\n",
       "                                                                                          SimpleImputer(strategy=&#x27;most_frequent&#x27;)),\n",
       "                                                                                         (&#x27;encoder&#x27;,\n",
       "                                                                                          OneHotEncoder())]),\n",
       "                                                                         &lt;sklearn.compose._column_transformer.make_column_selector object at 0x0000026A199BC5B0&gt;)],\n",
       "                                                          verbose=True)),\n",
       "                                       (&#x27;algo&#x27;, KNeighborsClassifier())]),\n",
       "             n_jobs=-1,\n",
       "             param_grid={&#x27;algo__n_neighbors&#x27;: range(1, 51, 2),\n",
       "                         &#x27;algo__p&#x27;: [1, 2],\n",
       "                         &#x27;algo__weights&#x27;: [&#x27;uniform&#x27;, &#x27;distance&#x27;]},\n",
       "             verbose=1)</pre></div></div></div><div class=\"sk-parallel\"><div class=\"sk-parallel-item\"><div class=\"sk-item\"><div class=\"sk-label-container\"><div class=\"sk-label sk-toggleable\"><input class=\"sk-toggleable__control sk-hidden--visually\" id=\"sk-estimator-id-30\" type=\"checkbox\" ><label for=\"sk-estimator-id-30\" class=\"sk-toggleable__label sk-toggleable__label-arrow\">estimator: Pipeline</label><div class=\"sk-toggleable__content\"><pre>Pipeline(steps=[(&#x27;preprocess_pipeline&#x27;,\n",
       "                 ColumnTransformer(transformers=[(&#x27;numerical_pipeline&#x27;,\n",
       "                                                  Pipeline(steps=[(&#x27;imputer&#x27;,\n",
       "                                                                   SimpleImputer()),\n",
       "                                                                  (&#x27;scaler&#x27;,\n",
       "                                                                   MinMaxScaler())]),\n",
       "                                                  &lt;sklearn.compose._column_transformer.make_column_selector object at 0x0000026A199BC880&gt;),\n",
       "                                                 (&#x27;categorical_pipeline&#x27;,\n",
       "                                                  Pipeline(steps=[(&#x27;imputer&#x27;,\n",
       "                                                                   SimpleImputer(strategy=&#x27;most_frequent&#x27;)),\n",
       "                                                                  (&#x27;encoder&#x27;,\n",
       "                                                                   OneHotEncoder())]),\n",
       "                                                  &lt;sklearn.compose._column_transformer.make_column_selector object at 0x0000026A199BC5B0&gt;)],\n",
       "                                   verbose=True)),\n",
       "                (&#x27;algo&#x27;, KNeighborsClassifier())])</pre></div></div></div><div class=\"sk-serial\"><div class=\"sk-item\"><div class=\"sk-serial\"><div class=\"sk-item sk-dashed-wrapped\"><div class=\"sk-label-container\"><div class=\"sk-label sk-toggleable\"><input class=\"sk-toggleable__control sk-hidden--visually\" id=\"sk-estimator-id-31\" type=\"checkbox\" ><label for=\"sk-estimator-id-31\" class=\"sk-toggleable__label sk-toggleable__label-arrow\">preprocess_pipeline: ColumnTransformer</label><div class=\"sk-toggleable__content\"><pre>ColumnTransformer(transformers=[(&#x27;numerical_pipeline&#x27;,\n",
       "                                 Pipeline(steps=[(&#x27;imputer&#x27;, SimpleImputer()),\n",
       "                                                 (&#x27;scaler&#x27;, MinMaxScaler())]),\n",
       "                                 &lt;sklearn.compose._column_transformer.make_column_selector object at 0x0000026A199BC880&gt;),\n",
       "                                (&#x27;categorical_pipeline&#x27;,\n",
       "                                 Pipeline(steps=[(&#x27;imputer&#x27;,\n",
       "                                                  SimpleImputer(strategy=&#x27;most_frequent&#x27;)),\n",
       "                                                 (&#x27;encoder&#x27;, OneHotEncoder())]),\n",
       "                                 &lt;sklearn.compose._column_transformer.make_column_selector object at 0x0000026A199BC5B0&gt;)],\n",
       "                  verbose=True)</pre></div></div></div><div class=\"sk-parallel\"><div class=\"sk-parallel-item\"><div class=\"sk-item\"><div class=\"sk-label-container\"><div class=\"sk-label sk-toggleable\"><input class=\"sk-toggleable__control sk-hidden--visually\" id=\"sk-estimator-id-32\" type=\"checkbox\" ><label for=\"sk-estimator-id-32\" class=\"sk-toggleable__label sk-toggleable__label-arrow\">numerical_pipeline</label><div class=\"sk-toggleable__content\"><pre>&lt;sklearn.compose._column_transformer.make_column_selector object at 0x0000026A199BC880&gt;</pre></div></div></div><div class=\"sk-serial\"><div class=\"sk-item\"><div class=\"sk-serial\"><div class=\"sk-item\"><div class=\"sk-estimator sk-toggleable\"><input class=\"sk-toggleable__control sk-hidden--visually\" id=\"sk-estimator-id-33\" type=\"checkbox\" ><label for=\"sk-estimator-id-33\" class=\"sk-toggleable__label sk-toggleable__label-arrow\">SimpleImputer</label><div class=\"sk-toggleable__content\"><pre>SimpleImputer()</pre></div></div></div><div class=\"sk-item\"><div class=\"sk-estimator sk-toggleable\"><input class=\"sk-toggleable__control sk-hidden--visually\" id=\"sk-estimator-id-34\" type=\"checkbox\" ><label for=\"sk-estimator-id-34\" class=\"sk-toggleable__label sk-toggleable__label-arrow\">MinMaxScaler</label><div class=\"sk-toggleable__content\"><pre>MinMaxScaler()</pre></div></div></div></div></div></div></div></div><div class=\"sk-parallel-item\"><div class=\"sk-item\"><div class=\"sk-label-container\"><div class=\"sk-label sk-toggleable\"><input class=\"sk-toggleable__control sk-hidden--visually\" id=\"sk-estimator-id-35\" type=\"checkbox\" ><label for=\"sk-estimator-id-35\" class=\"sk-toggleable__label sk-toggleable__label-arrow\">categorical_pipeline</label><div class=\"sk-toggleable__content\"><pre>&lt;sklearn.compose._column_transformer.make_column_selector object at 0x0000026A199BC5B0&gt;</pre></div></div></div><div class=\"sk-serial\"><div class=\"sk-item\"><div class=\"sk-serial\"><div class=\"sk-item\"><div class=\"sk-estimator sk-toggleable\"><input class=\"sk-toggleable__control sk-hidden--visually\" id=\"sk-estimator-id-36\" type=\"checkbox\" ><label for=\"sk-estimator-id-36\" class=\"sk-toggleable__label sk-toggleable__label-arrow\">SimpleImputer</label><div class=\"sk-toggleable__content\"><pre>SimpleImputer(strategy=&#x27;most_frequent&#x27;)</pre></div></div></div><div class=\"sk-item\"><div class=\"sk-estimator sk-toggleable\"><input class=\"sk-toggleable__control sk-hidden--visually\" id=\"sk-estimator-id-37\" type=\"checkbox\" ><label for=\"sk-estimator-id-37\" class=\"sk-toggleable__label sk-toggleable__label-arrow\">OneHotEncoder</label><div class=\"sk-toggleable__content\"><pre>OneHotEncoder()</pre></div></div></div></div></div></div></div></div></div></div><div class=\"sk-item\"><div class=\"sk-estimator sk-toggleable\"><input class=\"sk-toggleable__control sk-hidden--visually\" id=\"sk-estimator-id-38\" type=\"checkbox\" ><label for=\"sk-estimator-id-38\" class=\"sk-toggleable__label sk-toggleable__label-arrow\">KNeighborsClassifier</label><div class=\"sk-toggleable__content\"><pre>KNeighborsClassifier()</pre></div></div></div></div></div></div></div></div></div></div></div></div>"
      ],
      "text/plain": [
       "GridSearchCV(cv=5,\n",
       "             estimator=Pipeline(steps=[('preprocess_pipeline',\n",
       "                                        ColumnTransformer(transformers=[('numerical_pipeline',\n",
       "                                                                         Pipeline(steps=[('imputer',\n",
       "                                                                                          SimpleImputer()),\n",
       "                                                                                         ('scaler',\n",
       "                                                                                          MinMaxScaler())]),\n",
       "                                                                         <sklearn.compose._column_transformer.make_column_selector object at 0x0000026A199BC880>),\n",
       "                                                                        ('categorical_pipeline',\n",
       "                                                                         Pipeline(steps=[('imputer',\n",
       "                                                                                          SimpleImputer(strategy='most_frequent')),\n",
       "                                                                                         ('encoder',\n",
       "                                                                                          OneHotEncoder())]),\n",
       "                                                                         <sklearn.compose._column_transformer.make_column_selector object at 0x0000026A199BC5B0>)],\n",
       "                                                          verbose=True)),\n",
       "                                       ('algo', KNeighborsClassifier())]),\n",
       "             n_jobs=-1,\n",
       "             param_grid={'algo__n_neighbors': range(1, 51, 2),\n",
       "                         'algo__p': [1, 2],\n",
       "                         'algo__weights': ['uniform', 'distance']},\n",
       "             verbose=1)"
      ]
     },
     "execution_count": 26,
     "metadata": {},
     "output_type": "execute_result"
    }
   ],
   "source": [
    "from sklearn.model_selection import GridSearchCV\n",
    "\n",
    "parameters = {\n",
    "    \"algo__n_neighbors\": range(1, 51, 2),\n",
    "    \"algo__weights\": [\"uniform\", \"distance\"],\n",
    "    \"algo__p\": [1, 2]\n",
    "}\n",
    "\n",
    "model = GridSearchCV(model_pipeline, parameters, cv=5, n_jobs=-1, verbose=1)\n",
    "model.fit(X_train, y_train)"
   ]
  },
  {
   "cell_type": "code",
   "execution_count": 12,
   "id": "7e093388",
   "metadata": {
    "ExecuteTime": {
     "end_time": "2022-05-27T07:34:08.431831Z",
     "start_time": "2022-05-27T07:34:08.302578Z"
    }
   },
   "outputs": [
    {
     "data": {
      "text/html": [
       "<div>\n",
       "<style scoped>\n",
       "    .dataframe tbody tr th:only-of-type {\n",
       "        vertical-align: middle;\n",
       "    }\n",
       "\n",
       "    .dataframe tbody tr th {\n",
       "        vertical-align: top;\n",
       "    }\n",
       "\n",
       "    .dataframe thead th {\n",
       "        text-align: right;\n",
       "    }\n",
       "</style>\n",
       "<table border=\"1\" class=\"dataframe\">\n",
       "  <thead>\n",
       "    <tr style=\"text-align: right;\">\n",
       "      <th></th>\n",
       "      <th>mean_fit_time</th>\n",
       "      <th>std_fit_time</th>\n",
       "      <th>mean_score_time</th>\n",
       "      <th>std_score_time</th>\n",
       "      <th>param_algo__n_neighbors</th>\n",
       "      <th>param_algo__p</th>\n",
       "      <th>param_algo__weights</th>\n",
       "      <th>params</th>\n",
       "      <th>split0_test_score</th>\n",
       "      <th>split1_test_score</th>\n",
       "      <th>split2_test_score</th>\n",
       "      <th>split3_test_score</th>\n",
       "      <th>split4_test_score</th>\n",
       "      <th>mean_test_score</th>\n",
       "      <th>std_test_score</th>\n",
       "      <th>rank_test_score</th>\n",
       "    </tr>\n",
       "  </thead>\n",
       "  <tbody>\n",
       "    <tr>\n",
       "      <th>8</th>\n",
       "      <td>0.035875</td>\n",
       "      <td>0.001313</td>\n",
       "      <td>0.047728</td>\n",
       "      <td>0.010219</td>\n",
       "      <td>5</td>\n",
       "      <td>1</td>\n",
       "      <td>uniform</td>\n",
       "      <td>{'algo__n_neighbors': 5, 'algo__p': 1, 'algo__...</td>\n",
       "      <td>0.818182</td>\n",
       "      <td>0.797203</td>\n",
       "      <td>0.845070</td>\n",
       "      <td>0.838028</td>\n",
       "      <td>0.802817</td>\n",
       "      <td>0.820260</td>\n",
       "      <td>0.018823</td>\n",
       "      <td>1</td>\n",
       "    </tr>\n",
       "    <tr>\n",
       "      <th>52</th>\n",
       "      <td>0.046343</td>\n",
       "      <td>0.002356</td>\n",
       "      <td>0.044768</td>\n",
       "      <td>0.004053</td>\n",
       "      <td>27</td>\n",
       "      <td>1</td>\n",
       "      <td>uniform</td>\n",
       "      <td>{'algo__n_neighbors': 27, 'algo__p': 1, 'algo_...</td>\n",
       "      <td>0.832168</td>\n",
       "      <td>0.762238</td>\n",
       "      <td>0.838028</td>\n",
       "      <td>0.852113</td>\n",
       "      <td>0.809859</td>\n",
       "      <td>0.818881</td>\n",
       "      <td>0.031424</td>\n",
       "      <td>2</td>\n",
       "    </tr>\n",
       "    <tr>\n",
       "      <th>56</th>\n",
       "      <td>0.052841</td>\n",
       "      <td>0.002875</td>\n",
       "      <td>0.056805</td>\n",
       "      <td>0.011329</td>\n",
       "      <td>29</td>\n",
       "      <td>1</td>\n",
       "      <td>uniform</td>\n",
       "      <td>{'algo__n_neighbors': 29, 'algo__p': 1, 'algo_...</td>\n",
       "      <td>0.832168</td>\n",
       "      <td>0.762238</td>\n",
       "      <td>0.838028</td>\n",
       "      <td>0.852113</td>\n",
       "      <td>0.802817</td>\n",
       "      <td>0.817473</td>\n",
       "      <td>0.031950</td>\n",
       "      <td>3</td>\n",
       "    </tr>\n",
       "    <tr>\n",
       "      <th>48</th>\n",
       "      <td>0.059937</td>\n",
       "      <td>0.013528</td>\n",
       "      <td>0.053862</td>\n",
       "      <td>0.008503</td>\n",
       "      <td>25</td>\n",
       "      <td>1</td>\n",
       "      <td>uniform</td>\n",
       "      <td>{'algo__n_neighbors': 25, 'algo__p': 1, 'algo_...</td>\n",
       "      <td>0.825175</td>\n",
       "      <td>0.769231</td>\n",
       "      <td>0.838028</td>\n",
       "      <td>0.845070</td>\n",
       "      <td>0.809859</td>\n",
       "      <td>0.817473</td>\n",
       "      <td>0.026940</td>\n",
       "      <td>4</td>\n",
       "    </tr>\n",
       "    <tr>\n",
       "      <th>50</th>\n",
       "      <td>0.048614</td>\n",
       "      <td>0.007115</td>\n",
       "      <td>0.052133</td>\n",
       "      <td>0.006740</td>\n",
       "      <td>25</td>\n",
       "      <td>2</td>\n",
       "      <td>uniform</td>\n",
       "      <td>{'algo__n_neighbors': 25, 'algo__p': 2, 'algo_...</td>\n",
       "      <td>0.825175</td>\n",
       "      <td>0.762238</td>\n",
       "      <td>0.838028</td>\n",
       "      <td>0.845070</td>\n",
       "      <td>0.809859</td>\n",
       "      <td>0.816074</td>\n",
       "      <td>0.029471</td>\n",
       "      <td>5</td>\n",
       "    </tr>\n",
       "    <tr>\n",
       "      <th>...</th>\n",
       "      <td>...</td>\n",
       "      <td>...</td>\n",
       "      <td>...</td>\n",
       "      <td>...</td>\n",
       "      <td>...</td>\n",
       "      <td>...</td>\n",
       "      <td>...</td>\n",
       "      <td>...</td>\n",
       "      <td>...</td>\n",
       "      <td>...</td>\n",
       "      <td>...</td>\n",
       "      <td>...</td>\n",
       "      <td>...</td>\n",
       "      <td>...</td>\n",
       "      <td>...</td>\n",
       "      <td>...</td>\n",
       "    </tr>\n",
       "    <tr>\n",
       "      <th>21</th>\n",
       "      <td>0.058079</td>\n",
       "      <td>0.010347</td>\n",
       "      <td>0.033372</td>\n",
       "      <td>0.008386</td>\n",
       "      <td>11</td>\n",
       "      <td>1</td>\n",
       "      <td>distance</td>\n",
       "      <td>{'algo__n_neighbors': 11, 'algo__p': 1, 'algo_...</td>\n",
       "      <td>0.790210</td>\n",
       "      <td>0.748252</td>\n",
       "      <td>0.823944</td>\n",
       "      <td>0.823944</td>\n",
       "      <td>0.767606</td>\n",
       "      <td>0.790791</td>\n",
       "      <td>0.030152</td>\n",
       "      <td>96</td>\n",
       "    </tr>\n",
       "    <tr>\n",
       "      <th>3</th>\n",
       "      <td>0.048088</td>\n",
       "      <td>0.006034</td>\n",
       "      <td>0.038413</td>\n",
       "      <td>0.009643</td>\n",
       "      <td>1</td>\n",
       "      <td>2</td>\n",
       "      <td>distance</td>\n",
       "      <td>{'algo__n_neighbors': 1, 'algo__p': 2, 'algo__...</td>\n",
       "      <td>0.741259</td>\n",
       "      <td>0.720280</td>\n",
       "      <td>0.753521</td>\n",
       "      <td>0.809859</td>\n",
       "      <td>0.732394</td>\n",
       "      <td>0.751463</td>\n",
       "      <td>0.031159</td>\n",
       "      <td>97</td>\n",
       "    </tr>\n",
       "    <tr>\n",
       "      <th>2</th>\n",
       "      <td>0.045707</td>\n",
       "      <td>0.004698</td>\n",
       "      <td>0.047982</td>\n",
       "      <td>0.009297</td>\n",
       "      <td>1</td>\n",
       "      <td>2</td>\n",
       "      <td>uniform</td>\n",
       "      <td>{'algo__n_neighbors': 1, 'algo__p': 2, 'algo__...</td>\n",
       "      <td>0.741259</td>\n",
       "      <td>0.720280</td>\n",
       "      <td>0.753521</td>\n",
       "      <td>0.809859</td>\n",
       "      <td>0.732394</td>\n",
       "      <td>0.751463</td>\n",
       "      <td>0.031159</td>\n",
       "      <td>97</td>\n",
       "    </tr>\n",
       "    <tr>\n",
       "      <th>1</th>\n",
       "      <td>0.051398</td>\n",
       "      <td>0.010678</td>\n",
       "      <td>0.024904</td>\n",
       "      <td>0.001668</td>\n",
       "      <td>1</td>\n",
       "      <td>1</td>\n",
       "      <td>distance</td>\n",
       "      <td>{'algo__n_neighbors': 1, 'algo__p': 1, 'algo__...</td>\n",
       "      <td>0.734266</td>\n",
       "      <td>0.720280</td>\n",
       "      <td>0.732394</td>\n",
       "      <td>0.802817</td>\n",
       "      <td>0.725352</td>\n",
       "      <td>0.743022</td>\n",
       "      <td>0.030313</td>\n",
       "      <td>99</td>\n",
       "    </tr>\n",
       "    <tr>\n",
       "      <th>0</th>\n",
       "      <td>0.044403</td>\n",
       "      <td>0.002857</td>\n",
       "      <td>0.035060</td>\n",
       "      <td>0.003362</td>\n",
       "      <td>1</td>\n",
       "      <td>1</td>\n",
       "      <td>uniform</td>\n",
       "      <td>{'algo__n_neighbors': 1, 'algo__p': 1, 'algo__...</td>\n",
       "      <td>0.734266</td>\n",
       "      <td>0.720280</td>\n",
       "      <td>0.732394</td>\n",
       "      <td>0.802817</td>\n",
       "      <td>0.725352</td>\n",
       "      <td>0.743022</td>\n",
       "      <td>0.030313</td>\n",
       "      <td>99</td>\n",
       "    </tr>\n",
       "  </tbody>\n",
       "</table>\n",
       "<p>100 rows × 16 columns</p>\n",
       "</div>"
      ],
      "text/plain": [
       "    mean_fit_time  std_fit_time  mean_score_time  std_score_time  \\\n",
       "8        0.035875      0.001313         0.047728        0.010219   \n",
       "52       0.046343      0.002356         0.044768        0.004053   \n",
       "56       0.052841      0.002875         0.056805        0.011329   \n",
       "48       0.059937      0.013528         0.053862        0.008503   \n",
       "50       0.048614      0.007115         0.052133        0.006740   \n",
       "..            ...           ...              ...             ...   \n",
       "21       0.058079      0.010347         0.033372        0.008386   \n",
       "3        0.048088      0.006034         0.038413        0.009643   \n",
       "2        0.045707      0.004698         0.047982        0.009297   \n",
       "1        0.051398      0.010678         0.024904        0.001668   \n",
       "0        0.044403      0.002857         0.035060        0.003362   \n",
       "\n",
       "   param_algo__n_neighbors param_algo__p param_algo__weights  \\\n",
       "8                        5             1             uniform   \n",
       "52                      27             1             uniform   \n",
       "56                      29             1             uniform   \n",
       "48                      25             1             uniform   \n",
       "50                      25             2             uniform   \n",
       "..                     ...           ...                 ...   \n",
       "21                      11             1            distance   \n",
       "3                        1             2            distance   \n",
       "2                        1             2             uniform   \n",
       "1                        1             1            distance   \n",
       "0                        1             1             uniform   \n",
       "\n",
       "                                               params  split0_test_score  \\\n",
       "8   {'algo__n_neighbors': 5, 'algo__p': 1, 'algo__...           0.818182   \n",
       "52  {'algo__n_neighbors': 27, 'algo__p': 1, 'algo_...           0.832168   \n",
       "56  {'algo__n_neighbors': 29, 'algo__p': 1, 'algo_...           0.832168   \n",
       "48  {'algo__n_neighbors': 25, 'algo__p': 1, 'algo_...           0.825175   \n",
       "50  {'algo__n_neighbors': 25, 'algo__p': 2, 'algo_...           0.825175   \n",
       "..                                                ...                ...   \n",
       "21  {'algo__n_neighbors': 11, 'algo__p': 1, 'algo_...           0.790210   \n",
       "3   {'algo__n_neighbors': 1, 'algo__p': 2, 'algo__...           0.741259   \n",
       "2   {'algo__n_neighbors': 1, 'algo__p': 2, 'algo__...           0.741259   \n",
       "1   {'algo__n_neighbors': 1, 'algo__p': 1, 'algo__...           0.734266   \n",
       "0   {'algo__n_neighbors': 1, 'algo__p': 1, 'algo__...           0.734266   \n",
       "\n",
       "    split1_test_score  split2_test_score  split3_test_score  \\\n",
       "8            0.797203           0.845070           0.838028   \n",
       "52           0.762238           0.838028           0.852113   \n",
       "56           0.762238           0.838028           0.852113   \n",
       "48           0.769231           0.838028           0.845070   \n",
       "50           0.762238           0.838028           0.845070   \n",
       "..                ...                ...                ...   \n",
       "21           0.748252           0.823944           0.823944   \n",
       "3            0.720280           0.753521           0.809859   \n",
       "2            0.720280           0.753521           0.809859   \n",
       "1            0.720280           0.732394           0.802817   \n",
       "0            0.720280           0.732394           0.802817   \n",
       "\n",
       "    split4_test_score  mean_test_score  std_test_score  rank_test_score  \n",
       "8            0.802817         0.820260        0.018823                1  \n",
       "52           0.809859         0.818881        0.031424                2  \n",
       "56           0.802817         0.817473        0.031950                3  \n",
       "48           0.809859         0.817473        0.026940                4  \n",
       "50           0.809859         0.816074        0.029471                5  \n",
       "..                ...              ...             ...              ...  \n",
       "21           0.767606         0.790791        0.030152               96  \n",
       "3            0.732394         0.751463        0.031159               97  \n",
       "2            0.732394         0.751463        0.031159               97  \n",
       "1            0.725352         0.743022        0.030313               99  \n",
       "0            0.725352         0.743022        0.030313               99  \n",
       "\n",
       "[100 rows x 16 columns]"
      ]
     },
     "execution_count": 12,
     "metadata": {},
     "output_type": "execute_result"
    }
   ],
   "source": [
    "pd.DataFrame(model.cv_results_).sort_values(by=\"rank_test_score\")"
   ]
  },
  {
   "cell_type": "code",
   "execution_count": 13,
   "id": "d51fca0a",
   "metadata": {
    "ExecuteTime": {
     "end_time": "2022-05-27T07:34:08.478942Z",
     "start_time": "2022-05-27T07:34:08.442846Z"
    }
   },
   "outputs": [
    {
     "data": {
      "text/plain": [
       "{'algo__n_neighbors': 5, 'algo__p': 1, 'algo__weights': 'uniform'}"
      ]
     },
     "execution_count": 13,
     "metadata": {},
     "output_type": "execute_result"
    }
   ],
   "source": [
    "model.best_params_"
   ]
  },
  {
   "cell_type": "code",
   "execution_count": 14,
   "id": "cd70c159",
   "metadata": {
    "ExecuteTime": {
     "end_time": "2022-05-27T07:34:08.664839Z",
     "start_time": "2022-05-27T07:34:08.488193Z"
    }
   },
   "outputs": [
    {
     "data": {
      "text/plain": [
       "0.8553370786516854"
      ]
     },
     "execution_count": 14,
     "metadata": {},
     "output_type": "execute_result"
    }
   ],
   "source": [
    "model.score(X_train, y_train)"
   ]
  },
  {
   "cell_type": "code",
   "execution_count": 15,
   "id": "163c6eb9",
   "metadata": {
    "ExecuteTime": {
     "end_time": "2022-05-27T07:34:08.788211Z",
     "start_time": "2022-05-27T07:34:08.675078Z"
    }
   },
   "outputs": [
    {
     "data": {
      "text/plain": [
       "0.7988826815642458"
      ]
     },
     "execution_count": 15,
     "metadata": {},
     "output_type": "execute_result"
    }
   ],
   "source": [
    "model.score(X_test, y_test)"
   ]
  },
  {
   "cell_type": "markdown",
   "id": "8adbedc9",
   "metadata": {},
   "source": [
    "# Save Model"
   ]
  },
  {
   "cell_type": "code",
   "execution_count": 16,
   "id": "271aae4f",
   "metadata": {
    "ExecuteTime": {
     "end_time": "2022-05-27T07:34:08.911722Z",
     "start_time": "2022-05-27T07:34:08.797283Z"
    }
   },
   "outputs": [
    {
     "data": {
      "text/plain": [
       "['../pretrained_models/knn_model.joblib']"
      ]
     },
     "execution_count": 16,
     "metadata": {},
     "output_type": "execute_result"
    }
   ],
   "source": [
    "from joblib import dump, load\n",
    "\n",
    "dump(model, '../pretrained_models/knn_model.joblib')"
   ]
  },
  {
   "cell_type": "code",
   "execution_count": 17,
   "id": "5c5fe401",
   "metadata": {
    "ExecuteTime": {
     "end_time": "2022-05-27T07:34:09.003755Z",
     "start_time": "2022-05-27T07:34:08.924984Z"
    }
   },
   "outputs": [],
   "source": [
    "model = load(\"../pretrained_models/knn_model.joblib\")"
   ]
  },
  {
   "cell_type": "code",
   "execution_count": 18,
   "id": "12758620",
   "metadata": {
    "ExecuteTime": {
     "end_time": "2022-05-27T07:34:09.097659Z",
     "start_time": "2022-05-27T07:34:09.008824Z"
    }
   },
   "outputs": [
    {
     "data": {
      "text/plain": [
       "0.8553370786516854"
      ]
     },
     "execution_count": 18,
     "metadata": {},
     "output_type": "execute_result"
    }
   ],
   "source": [
    "model.score(X_train, y_train)"
   ]
  },
  {
   "cell_type": "code",
   "execution_count": 19,
   "id": "d26fb8cd",
   "metadata": {
    "ExecuteTime": {
     "end_time": "2022-05-27T07:34:09.190580Z",
     "start_time": "2022-05-27T07:34:09.105764Z"
    }
   },
   "outputs": [
    {
     "data": {
      "text/plain": [
       "0.7988826815642458"
      ]
     },
     "execution_count": 19,
     "metadata": {},
     "output_type": "execute_result"
    }
   ],
   "source": [
    "model.score(X_test, y_test)"
   ]
  },
  {
   "cell_type": "code",
   "execution_count": null,
   "id": "4931a9d1",
   "metadata": {},
   "outputs": [],
   "source": []
  }
 ],
 "metadata": {
  "kernelspec": {
   "display_name": "Python [conda env:ml] *",
   "language": "python",
   "name": "conda-env-ml-py"
  },
  "language_info": {
   "codemirror_mode": {
    "name": "ipython",
    "version": 3
   },
   "file_extension": ".py",
   "mimetype": "text/x-python",
   "name": "python",
   "nbconvert_exporter": "python",
   "pygments_lexer": "ipython3",
   "version": "3.10.4"
  },
  "nbTranslate": {
   "displayLangs": [
    "*"
   ],
   "hotkey": "alt-t",
   "langInMainMenu": true,
   "sourceLang": "en",
   "targetLang": "fr",
   "useGoogleTranslate": true
  },
  "toc": {
   "base_numbering": 1,
   "nav_menu": {},
   "number_sections": true,
   "sideBar": true,
   "skip_h1_title": false,
   "title_cell": "Table of Contents",
   "title_sidebar": "Contents",
   "toc_cell": false,
   "toc_position": {},
   "toc_section_display": true,
   "toc_window_display": false
  }
 },
 "nbformat": 4,
 "nbformat_minor": 5
}
