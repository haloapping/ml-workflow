{
 "cells": [
  {
   "cell_type": "markdown",
   "id": "58d1f82d",
   "metadata": {
    "slideshow": {
     "slide_type": "slide"
    }
   },
   "source": [
    "# Read Dataset"
   ]
  },
  {
   "cell_type": "code",
   "execution_count": 1,
   "id": "5eb88eb0",
   "metadata": {
    "ExecuteTime": {
     "end_time": "2022-05-30T01:14:13.807848Z",
     "start_time": "2022-05-30T01:14:11.652659Z"
    },
    "run_control": {
     "marked": false
    }
   },
   "outputs": [
    {
     "data": {
      "text/html": [
       "<div>\n",
       "<style scoped>\n",
       "    .dataframe tbody tr th:only-of-type {\n",
       "        vertical-align: middle;\n",
       "    }\n",
       "\n",
       "    .dataframe tbody tr th {\n",
       "        vertical-align: top;\n",
       "    }\n",
       "\n",
       "    .dataframe thead th {\n",
       "        text-align: right;\n",
       "    }\n",
       "</style>\n",
       "<table border=\"1\" class=\"dataframe\">\n",
       "  <thead>\n",
       "    <tr style=\"text-align: right;\">\n",
       "      <th></th>\n",
       "      <th>X (feature)</th>\n",
       "      <th>y (target)</th>\n",
       "    </tr>\n",
       "  </thead>\n",
       "  <tbody>\n",
       "    <tr>\n",
       "      <th>17</th>\n",
       "      <td>-0.544383</td>\n",
       "      <td>-29.320123</td>\n",
       "    </tr>\n",
       "    <tr>\n",
       "      <th>15</th>\n",
       "      <td>1.465649</td>\n",
       "      <td>116.105757</td>\n",
       "    </tr>\n",
       "    <tr>\n",
       "      <th>29</th>\n",
       "      <td>-1.424748</td>\n",
       "      <td>-79.935998</td>\n",
       "    </tr>\n",
       "    <tr>\n",
       "      <th>2</th>\n",
       "      <td>-0.138264</td>\n",
       "      <td>-1.078054</td>\n",
       "    </tr>\n",
       "    <tr>\n",
       "      <th>3</th>\n",
       "      <td>-0.234137</td>\n",
       "      <td>-2.126935</td>\n",
       "    </tr>\n",
       "  </tbody>\n",
       "</table>\n",
       "</div>"
      ],
      "text/plain": [
       "    X (feature)  y (target)\n",
       "17    -0.544383  -29.320123\n",
       "15     1.465649  116.105757\n",
       "29    -1.424748  -79.935998\n",
       "2     -0.138264   -1.078054\n",
       "3     -0.234137   -2.126935"
      ]
     },
     "execution_count": 1,
     "metadata": {},
     "output_type": "execute_result"
    }
   ],
   "source": [
    "import pandas as pd\n",
    "\n",
    "df = pd.read_csv(\"../datasets/dummy_sample_regression.csv\")\n",
    "df.sample(5)"
   ]
  },
  {
   "cell_type": "markdown",
   "id": "c7e85d20",
   "metadata": {
    "slideshow": {
     "slide_type": "slide"
    }
   },
   "source": [
    "# Dataset Information"
   ]
  },
  {
   "cell_type": "code",
   "execution_count": 2,
   "id": "739fc0a6",
   "metadata": {
    "ExecuteTime": {
     "end_time": "2022-05-30T01:14:13.854946Z",
     "start_time": "2022-05-30T01:14:13.812974Z"
    }
   },
   "outputs": [
    {
     "name": "stdout",
     "output_type": "stream",
     "text": [
      "<class 'pandas.core.frame.DataFrame'>\n",
      "RangeIndex: 30 entries, 0 to 29\n",
      "Data columns (total 2 columns):\n",
      " #   Column       Non-Null Count  Dtype  \n",
      "---  ------       --------------  -----  \n",
      " 0   X (feature)  30 non-null     float64\n",
      " 1   y (target)   30 non-null     float64\n",
      "dtypes: float64(2)\n",
      "memory usage: 608.0 bytes\n"
     ]
    }
   ],
   "source": [
    "df.info()"
   ]
  },
  {
   "cell_type": "markdown",
   "id": "1916e5e0",
   "metadata": {
    "slideshow": {
     "slide_type": "slide"
    }
   },
   "source": [
    "# Split Dataset"
   ]
  },
  {
   "cell_type": "code",
   "execution_count": 3,
   "id": "6b878ab5",
   "metadata": {
    "ExecuteTime": {
     "end_time": "2022-05-30T01:14:13.886023Z",
     "start_time": "2022-05-30T01:14:13.861132Z"
    }
   },
   "outputs": [],
   "source": [
    "X = df.iloc[:, 0].to_numpy().reshape(-1, 1)\n",
    "y = df.iloc[:, 1].to_numpy()"
   ]
  },
  {
   "cell_type": "code",
   "execution_count": 4,
   "id": "1f246dad",
   "metadata": {
    "ExecuteTime": {
     "end_time": "2022-05-30T01:14:17.664016Z",
     "start_time": "2022-05-30T01:14:13.895107Z"
    }
   },
   "outputs": [
    {
     "data": {
      "image/png": "[encoded data removed]",
      "text/plain": [
       "<Figure size 432x288 with 1 Axes>"
      ]
     },
     "metadata": {
      "needs_background": "light"
     },
     "output_type": "display_data"
    }
   ],
   "source": [
    "import matplotlib.pyplot as plt\n",
    "\n",
    "plt.scatter(X, y, c=\"y\")\n",
    "plt.xlabel(\"X (feature)\")\n",
    "plt.ylabel(\"y (target)\")\n",
    "plt.grid();"
   ]
  },
  {
   "cell_type": "markdown",
   "id": "11c7547a",
   "metadata": {
    "hide_input": true,
    "slideshow": {
     "slide_type": "slide"
    }
   },
   "source": [
    "# Build Model\n",
    "\n",
    "Model yang digunakan adalah regresi linier. Regresi linier dapat dirumuskan dengan persamaan $y = Wx + b$, dimana $y = prediksi$, $W = Weight~(bobot)$, $x = fitur$, dan $b = bias$. Model regresi linier mencari nilai $W$ dan $b$ yang sesuai sehingga *error* yang dihasilkan dari prediksi menjadi sekecil mungkin.\n",
    "\n",
    "Jika anda mengalami kesulitan dalam mengerti persamaan matematikanya, penjelasan lainnya secara konsep adalah membuat sebuah garis lurus lalu posisikan garis lurus tersebut sedemikian rupa sehingga bisa menghampiri semua sampel."
   ]
  },
  {
   "cell_type": "code",
   "execution_count": 5,
   "id": "a635c7ab",
   "metadata": {
    "ExecuteTime": {
     "end_time": "2022-05-30T01:14:19.391359Z",
     "start_time": "2022-05-30T01:14:17.670974Z"
    },
    "hide_input": true,
    "slideshow": {
     "slide_type": "-"
    }
   },
   "outputs": [
    {
     "data": {
      "image/png": "[encoded data removed]",
      "text/plain": [
       "<Figure size 1296x432 with 3 Axes>"
      ]
     },
     "metadata": {
      "needs_background": "light"
     },
     "output_type": "display_data"
    }
   ],
   "source": [
    "fig, ax = plt.subplots(nrows=1,ncols=3, figsize=(18, 6), tight_layout=True)\n",
    "\n",
    "fig.suptitle(\"Posisi Garis Lurus\", size=16)\n",
    "\n",
    "ax[0].set(\n",
    "    title=\"Not Good :(\",\n",
    "    xlabel=\"X (feature)\",\n",
    "    ylabel=\"y (target)\",\n",
    ")\n",
    "ax[0].grid()\n",
    "ax[0].scatter(X, y, c=\"y\")\n",
    "ax[0].plot([-1.913280244657798, 1.5792128155073917], [-136.7458953721814, 20.10575724343158], c=\"r\")\n",
    "\n",
    "ax[1].set(\n",
    "    title=\"Good :)\",\n",
    "    xlabel=\"X (feature)\",\n",
    "    ylabel=\"y (target)\",\n",
    ")\n",
    "ax[1].grid()\n",
    "ax[1].scatter(X, y, c=\"y\")\n",
    "ax[1].plot([-1.913280244657798, 1.5792128155073917], [-122.95563183951853, 119.50544436730426], c=\"g\")\n",
    "\n",
    "ax[2].set(\n",
    "    title=\"Not Good :(\",\n",
    "    xlabel=\"X (feature)\",\n",
    "    ylabel=\"y (target)\",\n",
    ")\n",
    "ax[2].grid()\n",
    "ax[2].scatter(X, y, c=\"y\")\n",
    "ax[2].plot([-1.913280244657798, 1.5792128155073917], [-50.7458953721814, 80.10575724343158], c=\"r\");"
   ]
  },
  {
   "cell_type": "markdown",
   "id": "3a077360",
   "metadata": {
    "slideshow": {
     "slide_type": "slide"
    }
   },
   "source": [
    "## Train Model"
   ]
  },
  {
   "cell_type": "code",
   "execution_count": 6,
   "id": "6fbee117",
   "metadata": {
    "ExecuteTime": {
     "end_time": "2022-05-30T01:14:22.453754Z",
     "start_time": "2022-05-30T01:14:19.401425Z"
    }
   },
   "outputs": [
    {
     "name": "stdout",
     "output_type": "stream",
     "text": [
      "Weight : [69.42349549]\n",
      "Bias   : 9.870970594171434\n"
     ]
    }
   ],
   "source": [
    "from sklearn.linear_model import LinearRegression\n",
    "\n",
    "model = LinearRegression()\n",
    "model.fit(X, y)\n",
    "\n",
    "print(f\"Weight : {model.coef_}\")\n",
    "print(f\"Bias   : {model.intercept_}\")"
   ]
  },
  {
   "cell_type": "markdown",
   "id": "0f350842",
   "metadata": {
    "slideshow": {
     "slide_type": "slide"
    }
   },
   "source": [
    "## Prediction"
   ]
  },
  {
   "cell_type": "code",
   "execution_count": 7,
   "id": "dca00db6",
   "metadata": {
    "ExecuteTime": {
     "end_time": "2022-05-30T01:14:22.495403Z",
     "start_time": "2022-05-30T01:14:22.463044Z"
    }
   },
   "outputs": [
    {
     "data": {
      "text/plain": [
       "array([ -70.03502684,  -29.16499516,    0.27217951,   -6.38363538,\n",
       "        115.60502696,  -60.44330612,   17.5716045 ,   26.66883726,\n",
       "         31.68711887,  -88.17608904,  -22.72158232,  -22.30110551,\n",
       "        -53.16723472,  119.50544437,   47.53738533,  111.62143129,\n",
       "         14.55901461,  -27.92198103, -122.95563184, -109.87885477,\n",
       "        -31.82746679,  -10.37942913,   44.35460335,   35.95324028,\n",
       "         -5.80320938,   63.14897205,  -22.46161685,   54.8357729 ,\n",
       "         -6.38477516,  -89.04002868])"
      ]
     },
     "execution_count": 7,
     "metadata": {},
     "output_type": "execute_result"
    }
   ],
   "source": [
    "y_preds = model.predict(X)\n",
    "y_preds"
   ]
  },
  {
   "cell_type": "code",
   "execution_count": 15,
   "id": "f0e52dec",
   "metadata": {
    "ExecuteTime": {
     "end_time": "2022-05-30T01:25:10.301859Z",
     "start_time": "2022-05-30T01:25:09.902817Z"
    }
   },
   "outputs": [
    {
     "data": {
      "image/png": "[encoded data removed]",
      "text/plain": [
       "<Figure size 576x396 with 1 Axes>"
      ]
     },
     "metadata": {},
     "output_type": "display_data"
    }
   ],
   "source": [
    "import matplotlib.pyplot as plt\n",
    "\n",
    "plt.scatter(X, y, c=\"y\", label=\"Samples\")\n",
    "plt.plot(X, y_preds, c=\"g\", label=\"Prediction of Linear Regression\")\n",
    "plt.xlabel(\"X (feature)\")\n",
    "plt.ylabel(\"y (target)\")\n",
    "plt.legend()\n",
    "plt.grid();"
   ]
  },
  {
   "cell_type": "markdown",
   "id": "8da86b88",
   "metadata": {
    "slideshow": {
     "slide_type": "slide"
    }
   },
   "source": [
    "# Evaluate"
   ]
  },
  {
   "cell_type": "markdown",
   "id": "0a4dc1ae",
   "metadata": {},
   "source": [
    "## R-Squared, Explained Variance, and RMSE (Root Mean Square Error)\n",
    "\n",
    "- [R-Squared Explanantion](https://scikit-learn.org/stable/modules/model_evaluation.html#r2-score-the-coefficient-of-determination)\n",
    "- [Mean Squared Error Explanation](https://scikit-learn.org/stable/modules/model_evaluation.html#mean-squared-error)\n",
    "- [Explained Variance Explanation](https://scikit-learn.org/stable/modules/model_evaluation.html#explained-variance-score)"
   ]
  },
  {
   "cell_type": "code",
   "execution_count": 9,
   "id": "4b2082d0",
   "metadata": {
    "ExecuteTime": {
     "end_time": "2022-05-30T01:14:23.173034Z",
     "start_time": "2022-05-30T01:14:23.145422Z"
    }
   },
   "outputs": [
    {
     "name": "stdout",
     "output_type": "stream",
     "text": [
      "r2_score                 : 0.9750528924547933\n",
      "root_mean_squared_error  : 9.826219729820023\n"
     ]
    }
   ],
   "source": [
    "from sklearn.metrics import r2_score, mean_squared_error\n",
    "\n",
    "y_preds = model.predict(X)\n",
    "\n",
    "print(f\"r2_score                 : {r2_score(y, y_preds)}\")\n",
    "print(f\"root_mean_squared_error  : {mean_squared_error(y, y_preds, squared=False)}\")"
   ]
  },
  {
   "cell_type": "markdown",
   "id": "78d864c5",
   "metadata": {
    "slideshow": {
     "slide_type": "subslide"
    }
   },
   "source": [
    "## Residual Plot\n",
    "\n",
    "[Interpreting Residual Plot](https://www.qualtrics.com/support/stats-iq/analyses/regression-guides/interpreting-residual-plots-improve-regression/)"
   ]
  },
  {
   "cell_type": "code",
   "execution_count": 10,
   "id": "f5b9e911",
   "metadata": {
    "ExecuteTime": {
     "end_time": "2022-05-30T01:14:25.985007Z",
     "start_time": "2022-05-30T01:14:23.180356Z"
    }
   },
   "outputs": [
    {
     "data": {
      "image/png": "[encoded data removed]",
      "text/plain": [
       "<Figure size 576x396 with 2 Axes>"
      ]
     },
     "metadata": {},
     "output_type": "display_data"
    }
   ],
   "source": [
    "from yellowbrick.regressor import ResidualsPlot\n",
    "\n",
    "visualizer = ResidualsPlot(model)\n",
    "visualizer.fit(X, y)\n",
    "visualizer.show();"
   ]
  },
  {
   "cell_type": "markdown",
   "id": "0dedeeb8",
   "metadata": {
    "slideshow": {
     "slide_type": "slide"
    }
   },
   "source": [
    "***\n",
    "Semoga bermanfaat yah 😄\n",
    "\n",
    "*Dibuat dengan penuh 💚 oleh [haloapping](https://haloapping.github.io/)*\n",
    "***"
   ]
  }
 ],
 "metadata": {
  "celltoolbar": "Slideshow",
  "kernelspec": {
   "display_name": "Python [conda env:ml] *",
   "language": "python",
   "name": "conda-env-ml-py"
  },
  "language_info": {
   "codemirror_mode": {
    "name": "ipython",
    "version": 3
   },
   "file_extension": ".py",
   "mimetype": "text/x-python",
   "name": "python",
   "nbconvert_exporter": "python",
   "pygments_lexer": "ipython3",
   "version": "3.10.4"
  },
  "nbTranslate": {
   "displayLangs": [
    "*"
   ],
   "hotkey": "alt-t",
   "langInMainMenu": true,
   "sourceLang": "en",
   "targetLang": "fr",
   "useGoogleTranslate": true
  },
  "toc": {
   "base_numbering": 1,
   "nav_menu": {},
   "number_sections": true,
   "sideBar": true,
   "skip_h1_title": false,
   "title_cell": "Table of Contents",
   "title_sidebar": "Contents",
   "toc_cell": false,
   "toc_position": {},
   "toc_section_display": true,
   "toc_window_display": false
  }
 },
 "nbformat": 4,
 "nbformat_minor": 5
}
