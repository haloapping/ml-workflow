{
 "cells": [
  {
   "cell_type": "markdown",
   "id": "58d1f82d",
   "metadata": {
    "slideshow": {
     "slide_type": "slide"
    }
   },
   "source": [
    "# Read Dataset"
   ]
  },
  {
   "cell_type": "code",
   "execution_count": 1,
   "id": "5eb88eb0",
   "metadata": {
    "ExecuteTime": {
     "end_time": "2022-05-30T01:27:59.596791Z",
     "start_time": "2022-05-30T01:27:58.346007Z"
    },
    "run_control": {
     "marked": false
    }
   },
   "outputs": [
    {
     "data": {
      "text/html": [
       "<div>\n",
       "<style scoped>\n",
       "    .dataframe tbody tr th:only-of-type {\n",
       "        vertical-align: middle;\n",
       "    }\n",
       "\n",
       "    .dataframe tbody tr th {\n",
       "        vertical-align: top;\n",
       "    }\n",
       "\n",
       "    .dataframe thead th {\n",
       "        text-align: right;\n",
       "    }\n",
       "</style>\n",
       "<table border=\"1\" class=\"dataframe\">\n",
       "  <thead>\n",
       "    <tr style=\"text-align: right;\">\n",
       "      <th></th>\n",
       "      <th>X (feature)</th>\n",
       "      <th>y (target)</th>\n",
       "    </tr>\n",
       "  </thead>\n",
       "  <tbody>\n",
       "    <tr>\n",
       "      <th>6</th>\n",
       "      <td>0.110923</td>\n",
       "      <td>11.354916</td>\n",
       "    </tr>\n",
       "    <tr>\n",
       "      <th>14</th>\n",
       "      <td>0.542560</td>\n",
       "      <td>59.060147</td>\n",
       "    </tr>\n",
       "    <tr>\n",
       "      <th>19</th>\n",
       "      <td>-1.724918</td>\n",
       "      <td>-100.287571</td>\n",
       "    </tr>\n",
       "    <tr>\n",
       "      <th>13</th>\n",
       "      <td>1.579213</td>\n",
       "      <td>105.403765</td>\n",
       "    </tr>\n",
       "    <tr>\n",
       "      <th>27</th>\n",
       "      <td>0.647689</td>\n",
       "      <td>48.980501</td>\n",
       "    </tr>\n",
       "  </tbody>\n",
       "</table>\n",
       "</div>"
      ],
      "text/plain": [
       "    X (feature)  y (target)\n",
       "6      0.110923   11.354916\n",
       "14     0.542560   59.060147\n",
       "19    -1.724918 -100.287571\n",
       "13     1.579213  105.403765\n",
       "27     0.647689   48.980501"
      ]
     },
     "execution_count": 1,
     "metadata": {},
     "output_type": "execute_result"
    }
   ],
   "source": [
    "import pandas as pd\n",
    "\n",
    "df = pd.read_csv(\"../datasets/dummy_sample_regression.csv\")\n",
    "df.sample(5)"
   ]
  },
  {
   "cell_type": "markdown",
   "id": "c7e85d20",
   "metadata": {
    "slideshow": {
     "slide_type": "slide"
    }
   },
   "source": [
    "# Dataset Information"
   ]
  },
  {
   "cell_type": "code",
   "execution_count": 2,
   "id": "739fc0a6",
   "metadata": {
    "ExecuteTime": {
     "end_time": "2022-05-30T01:27:59.629516Z",
     "start_time": "2022-05-30T01:27:59.603492Z"
    }
   },
   "outputs": [
    {
     "name": "stdout",
     "output_type": "stream",
     "text": [
      "<class 'pandas.core.frame.DataFrame'>\n",
      "RangeIndex: 30 entries, 0 to 29\n",
      "Data columns (total 2 columns):\n",
      " #   Column       Non-Null Count  Dtype  \n",
      "---  ------       --------------  -----  \n",
      " 0   X (feature)  30 non-null     float64\n",
      " 1   y (target)   30 non-null     float64\n",
      "dtypes: float64(2)\n",
      "memory usage: 608.0 bytes\n"
     ]
    }
   ],
   "source": [
    "df.info()"
   ]
  },
  {
   "cell_type": "markdown",
   "id": "1916e5e0",
   "metadata": {
    "slideshow": {
     "slide_type": "slide"
    }
   },
   "source": [
    "# Split Dataset"
   ]
  },
  {
   "cell_type": "code",
   "execution_count": 3,
   "id": "6b878ab5",
   "metadata": {
    "ExecuteTime": {
     "end_time": "2022-05-30T01:27:59.644855Z",
     "start_time": "2022-05-30T01:27:59.633858Z"
    }
   },
   "outputs": [],
   "source": [
    "X = df.iloc[:, 0].to_numpy().reshape(-1, 1)\n",
    "y = df.iloc[:, 1].to_numpy()"
   ]
  },
  {
   "cell_type": "code",
   "execution_count": 4,
   "id": "1f246dad",
   "metadata": {
    "ExecuteTime": {
     "end_time": "2022-05-30T01:28:02.551188Z",
     "start_time": "2022-05-30T01:27:59.658236Z"
    }
   },
   "outputs": [
    {
     "data": {
      "image/png": "[encoded data removed]",
      "text/plain": [
       "<Figure size 432x288 with 1 Axes>"
      ]
     },
     "metadata": {
      "needs_background": "light"
     },
     "output_type": "display_data"
    }
   ],
   "source": [
    "import matplotlib.pyplot as plt\n",
    "\n",
    "plt.scatter(X, y, c=\"y\")\n",
    "plt.xlabel(\"X (feature)\")\n",
    "plt.ylabel(\"y (target)\")\n",
    "plt.grid();"
   ]
  },
  {
   "cell_type": "markdown",
   "id": "11c7547a",
   "metadata": {
    "hide_input": true,
    "slideshow": {
     "slide_type": "slide"
    }
   },
   "source": [
    "# Build Model\n",
    "\n",
    "Model yang digunakan adalah regresi linier. Regresi linier dapat dirumuskan dengan persamaan $y = Wx + b$, dimana $y = prediksi$, $W = Weight~(bobot)$, $x = fitur$, dan $b = bias$. Model regresi linier mencari nilai $W$ dan $b$ yang sesuai sehingga *error* yang dihasilkan dari prediksi menjadi sekecil mungkin.\n",
    "\n",
    "Jika anda mengalami kesulitan dalam mengerti persamaan matematikanya, penjelasan lainnya secara konsep adalah membuat sebuah garis lurus lalu posisikan garis lurus tersebut sedemikian rupa sehingga bisa menghampiri semua sampel."
   ]
  },
  {
   "cell_type": "code",
   "execution_count": 5,
   "id": "a635c7ab",
   "metadata": {
    "ExecuteTime": {
     "end_time": "2022-05-30T01:28:04.176530Z",
     "start_time": "2022-05-30T01:28:02.558155Z"
    },
    "hide_input": false,
    "slideshow": {
     "slide_type": "-"
    }
   },
   "outputs": [
    {
     "data": {
      "image/png": "[encoded data removed]",
      "text/plain": [
       "<Figure size 1296x432 with 3 Axes>"
      ]
     },
     "metadata": {
      "needs_background": "light"
     },
     "output_type": "display_data"
    }
   ],
   "source": [
    "fig, ax = plt.subplots(nrows=1,ncols=3, figsize=(18, 6), tight_layout=True)\n",
    "\n",
    "fig.suptitle(\"Posisi Garis Lurus\", size=16)\n",
    "\n",
    "ax[0].set(\n",
    "    title=\"Not Good :(\",\n",
    "    xlabel=\"X (feature)\",\n",
    "    ylabel=\"y (target)\",\n",
    ")\n",
    "ax[0].grid()\n",
    "ax[0].scatter(X, y, c=\"y\")\n",
    "ax[0].plot([-1.913280244657798, 1.5792128155073917], [-136.7458953721814, 20.10575724343158], c=\"r\")\n",
    "\n",
    "ax[1].set(\n",
    "    title=\"Good :)\",\n",
    "    xlabel=\"X (feature)\",\n",
    "    ylabel=\"y (target)\",\n",
    ")\n",
    "ax[1].grid()\n",
    "ax[1].scatter(X, y, c=\"y\")\n",
    "ax[1].plot([-1.913280244657798, 1.5792128155073917], [-122.95563183951853, 119.50544436730426], c=\"g\")\n",
    "\n",
    "ax[2].set(\n",
    "    title=\"Not Good :(\",\n",
    "    xlabel=\"X (feature)\",\n",
    "    ylabel=\"y (target)\",\n",
    ")\n",
    "ax[2].grid()\n",
    "ax[2].scatter(X, y, c=\"y\")\n",
    "ax[2].plot([-1.913280244657798, 1.5792128155073917], [-50.7458953721814, 80.10575724343158], c=\"r\");"
   ]
  },
  {
   "cell_type": "markdown",
   "id": "3a077360",
   "metadata": {
    "slideshow": {
     "slide_type": "slide"
    }
   },
   "source": [
    "## Train Model"
   ]
  },
  {
   "cell_type": "code",
   "execution_count": 6,
   "id": "6fbee117",
   "metadata": {
    "ExecuteTime": {
     "end_time": "2022-05-30T01:28:06.333275Z",
     "start_time": "2022-05-30T01:28:04.181647Z"
    }
   },
   "outputs": [
    {
     "name": "stdout",
     "output_type": "stream",
     "text": [
      "Weight : [66.58876521]\n",
      "Bias   : 9.337624892592727\n"
     ]
    }
   ],
   "source": [
    "from sklearn.linear_model import Ridge\n",
    "\n",
    "model = Ridge()\n",
    "model.fit(X, y)\n",
    "\n",
    "print(f\"Weight : {model.coef_}\")\n",
    "print(f\"Bias   : {model.intercept_}\")"
   ]
  },
  {
   "cell_type": "markdown",
   "id": "0f350842",
   "metadata": {
    "slideshow": {
     "slide_type": "slide"
    }
   },
   "source": [
    "## Prediction"
   ]
  },
  {
   "cell_type": "code",
   "execution_count": 7,
   "id": "dca00db6",
   "metadata": {
    "ExecuteTime": {
     "end_time": "2022-05-30T01:28:06.364572Z",
     "start_time": "2022-05-30T01:28:06.340322Z"
    }
   },
   "outputs": [
    {
     "data": {
      "text/plain": [
       "array([ -67.3056162 ,  -28.10440738,    0.1307758 ,   -6.25326596,\n",
       "        110.75430242,  -58.10554878,   16.72382318,   25.44959378,\n",
       "         30.26296674,  -84.70593469,  -21.92409477,  -21.52078705,\n",
       "        -51.12657708,  114.49545629,   45.46602825,  106.93336665,\n",
       "         13.83424466,  -26.91214854, -118.06534411, -105.52252367,\n",
       "        -30.65816381,  -10.08590173,   42.41320701,   34.35489203,\n",
       "         -5.69654017,   60.44015589,  -21.67474432,   52.46640489,\n",
       "         -6.2543592 ,  -85.53459757])"
      ]
     },
     "execution_count": 7,
     "metadata": {},
     "output_type": "execute_result"
    }
   ],
   "source": [
    "y_preds = model.predict(X)\n",
    "y_preds"
   ]
  },
  {
   "cell_type": "code",
   "execution_count": 8,
   "id": "f0e52dec",
   "metadata": {
    "ExecuteTime": {
     "end_time": "2022-05-30T01:28:06.970745Z",
     "start_time": "2022-05-30T01:28:06.370872Z"
    }
   },
   "outputs": [
    {
     "data": {
      "image/png": "[encoded data removed]",
      "text/plain": [
       "<Figure size 432x288 with 1 Axes>"
      ]
     },
     "metadata": {
      "needs_background": "light"
     },
     "output_type": "display_data"
    }
   ],
   "source": [
    "import matplotlib.pyplot as plt\n",
    "\n",
    "plt.scatter(X, y, c=\"y\", label=\"Samples\")\n",
    "plt.plot(X, y_preds, c=\"g\", label=\"Prediction of Linear Regression\")\n",
    "plt.xlabel(\"X (feature)\")\n",
    "plt.ylabel(\"y (target)\")\n",
    "plt.legend()\n",
    "plt.grid();"
   ]
  },
  {
   "cell_type": "markdown",
   "id": "8da86b88",
   "metadata": {
    "slideshow": {
     "slide_type": "slide"
    }
   },
   "source": [
    "# Evaluate"
   ]
  },
  {
   "cell_type": "markdown",
   "id": "0a4dc1ae",
   "metadata": {},
   "source": [
    "## R-Squared, Explained Variance, and RMSE (Root Mean Square Error)\n",
    "\n",
    "- [R-Squared Explanantion](https://scikit-learn.org/stable/modules/model_evaluation.html#r2-score-the-coefficient-of-determination)\n",
    "- [Mean Squared Error Explanation](https://scikit-learn.org/stable/modules/model_evaluation.html#mean-squared-error)\n",
    "- [Explained Variance Explanation](https://scikit-learn.org/stable/modules/model_evaluation.html#explained-variance-score)"
   ]
  },
  {
   "cell_type": "code",
   "execution_count": 9,
   "id": "4b2082d0",
   "metadata": {
    "ExecuteTime": {
     "end_time": "2022-05-30T01:28:07.002245Z",
     "start_time": "2022-05-30T01:28:06.976094Z"
    }
   },
   "outputs": [
    {
     "name": "stdout",
     "output_type": "stream",
     "text": [
      "r2_score                 : 0.9734271988205123\n",
      "root_mean_squared_error  : 10.141332940014836\n"
     ]
    }
   ],
   "source": [
    "from sklearn.metrics import r2_score, mean_squared_error\n",
    "\n",
    "y_preds = model.predict(X)\n",
    "\n",
    "print(f\"r2_score                 : {r2_score(y, y_preds)}\")\n",
    "print(f\"root_mean_squared_error  : {mean_squared_error(y, y_preds, squared=False)}\")"
   ]
  },
  {
   "cell_type": "markdown",
   "id": "78d864c5",
   "metadata": {
    "slideshow": {
     "slide_type": "subslide"
    }
   },
   "source": [
    "## Residual Plot\n",
    "\n",
    "[Interpreting Residual Plot](https://www.qualtrics.com/support/stats-iq/analyses/regression-guides/interpreting-residual-plots-improve-regression/)"
   ]
  },
  {
   "cell_type": "code",
   "execution_count": 10,
   "id": "f5b9e911",
   "metadata": {
    "ExecuteTime": {
     "end_time": "2022-05-30T01:28:10.574587Z",
     "start_time": "2022-05-30T01:28:07.011811Z"
    }
   },
   "outputs": [
    {
     "data": {
      "image/png": "[encoded data removed]",
      "text/plain": [
       "<Figure size 576x396 with 2 Axes>"
      ]
     },
     "metadata": {},
     "output_type": "display_data"
    }
   ],
   "source": [
    "from yellowbrick.regressor import ResidualsPlot\n",
    "\n",
    "visualizer = ResidualsPlot(model)\n",
    "visualizer.fit(X, y)\n",
    "visualizer.show();"
   ]
  },
  {
   "cell_type": "markdown",
   "id": "0dedeeb8",
   "metadata": {
    "slideshow": {
     "slide_type": "slide"
    }
   },
   "source": [
    "***\n",
    "Semoga bermanfaat yah 😄\n",
    "\n",
    "*Dibuat dengan penuh 💚 oleh [haloapping](https://haloapping.github.io/)*\n",
    "***"
   ]
  }
 ],
 "metadata": {
  "celltoolbar": "Slideshow",
  "kernelspec": {
   "display_name": "Python [conda env:ml] *",
   "language": "python",
   "name": "conda-env-ml-py"
  },
  "language_info": {
   "codemirror_mode": {
    "name": "ipython",
    "version": 3
   },
   "file_extension": ".py",
   "mimetype": "text/x-python",
   "name": "python",
   "nbconvert_exporter": "python",
   "pygments_lexer": "ipython3",
   "version": "3.10.4"
  },
  "nbTranslate": {
   "displayLangs": [
    "*"
   ],
   "hotkey": "alt-t",
   "langInMainMenu": true,
   "sourceLang": "en",
   "targetLang": "fr",
   "useGoogleTranslate": true
  },
  "toc": {
   "base_numbering": 1,
   "nav_menu": {},
   "number_sections": true,
   "sideBar": true,
   "skip_h1_title": false,
   "title_cell": "Table of Contents",
   "title_sidebar": "Contents",
   "toc_cell": false,
   "toc_position": {},
   "toc_section_display": true,
   "toc_window_display": true
  }
 },
 "nbformat": 4,
 "nbformat_minor": 5
}
